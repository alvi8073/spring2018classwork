{
 "cells": [
  {
   "cell_type": "code",
   "execution_count": 32,
   "metadata": {
    "collapsed": false
   },
   "outputs": [],
   "source": [
    "def average(numberList):\n",
    "    \n",
    "    # improvement 3 - validate input list for int/float\n",
    "    for val in numberList:\n",
    "        if type(val) not in [int,float]:\n",
    "            print \"Incompatible type encountered\"\n",
    "            return 0\n",
    "    \n",
    "    # improvement 2 - check for zero length\n",
    "    if len(numberList) == 0:\n",
    "        print \"Found zero length string. Returning zero\"\n",
    "        return 0\n",
    "    \n",
    "    # improvement 1 - cast the result to a float\n",
    "    myAverage = sum(numberList)/float(len(numberList))\n",
    "    \n",
    "    return myAverage"
   ]
  },
  {
   "cell_type": "code",
   "execution_count": 6,
   "metadata": {
    "collapsed": true
   },
   "outputs": [],
   "source": [
    "def average2(numberList):\n",
    "    \n",
    "    return sum(numberList)/len(numberList)\n"
   ]
  },
  {
   "cell_type": "code",
   "execution_count": 33,
   "metadata": {
    "collapsed": false
   },
   "outputs": [
    {
     "name": "stdout",
     "output_type": "stream",
     "text": [
      "Average age:     45.71\n",
      "Average age:    457.14\n"
     ]
    }
   ],
   "source": [
    "ageList1 = [23,33,43,53,87,32,49]\n",
    "\n",
    "print \"Average age:%10.2f\" % (average(ageList1))\n",
    "\n",
    "ageList2 = [230,330,430,530,870,320,490]\n",
    "print \"Average age:%10.2f\" % (average(ageList2))"
   ]
  },
  {
   "cell_type": "code",
   "execution_count": 12,
   "metadata": {
    "collapsed": false
   },
   "outputs": [
    {
     "name": "stdout",
     "output_type": "stream",
     "text": [
      "Average age: Found zero length string. Returning zero\n",
      "0\n"
     ]
    }
   ],
   "source": [
    "ageList = []\n",
    "\n",
    "print \"Average age:\", average(ageList)"
   ]
  },
  {
   "cell_type": "code",
   "execution_count": 16,
   "metadata": {
    "collapsed": false
   },
   "outputs": [
    {
     "name": "stdout",
     "output_type": "stream",
     "text": [
      "Average age: Incompatible type encountered\n",
      "0\n"
     ]
    }
   ],
   "source": [
    "ageList = [\"Harry\",\"Potter\"]\n",
    "\n",
    "print \"Average age:\", average(ageList)"
   ]
  },
  {
   "cell_type": "code",
   "execution_count": 2,
   "metadata": {
    "collapsed": false
   },
   "outputs": [
    {
     "name": "stdout",
     "output_type": "stream",
     "text": [
      "<built-in function max>\n"
     ]
    }
   ],
   "source": [
    "print max"
   ]
  },
  {
   "cell_type": "code",
   "execution_count": 44,
   "metadata": {
    "collapsed": false
   },
   "outputs": [],
   "source": [
    "def summary_stats(numberList):\n",
    "    \n",
    "    '''\n",
    "    Function Name: summary_stats\n",
    "    \n",
    "    Description: Compute summary statistics for the input numbers\n",
    "    \n",
    "    Input Arguments: List of int/float numbers\n",
    "    \n",
    "    Output Arguments: Tuple of (average,max,min)\n",
    "    '''\n",
    "\n",
    "    # improvement 3 - validate input list for int/float\n",
    "    for val in numberList:\n",
    "        if type(val) not in [int,float]:\n",
    "            print \"Incompatible type encountered\"\n",
    "            return 0\n",
    "    \n",
    "    # improvement 2 - check for zero length\n",
    "    if len(numberList) == 0:\n",
    "        print \"Found zero length string. Returning zero\"\n",
    "        return 0\n",
    "    \n",
    "    # improvement 1 - cast the result to a float\n",
    "    myAverage = sum(numberList)/float(len(numberList))\n",
    "    \n",
    "    # find max\n",
    "    myMax = max(numberList)\n",
    "    \n",
    "    # find min\n",
    "    myMin = min(numberList)\n",
    "    \n",
    "    return (myAverage,myMax,myMin)"
   ]
  },
  {
   "cell_type": "code",
   "execution_count": 43,
   "metadata": {
    "collapsed": false
   },
   "outputs": [
    {
     "name": "stdout",
     "output_type": "stream",
     "text": [
      "(49.875, 87, 23)\n"
     ]
    }
   ],
   "source": [
    "print summary_stats(ageList1)"
   ]
  },
  {
   "cell_type": "code",
   "execution_count": null,
   "metadata": {
    "collapsed": true
   },
   "outputs": [],
   "source": [
    "summary_stats"
   ]
  },
  {
   "cell_type": "code",
   "execution_count": 37,
   "metadata": {
    "collapsed": false
   },
   "outputs": [
    {
     "name": "stdout",
     "output_type": "stream",
     "text": [
      "(45.714285714285715, 87, 23)\n",
      "<type 'tuple'>\n",
      "Average:45.71, Max:87,Min:23\n"
     ]
    }
   ],
   "source": [
    "ageList1 = [23,33,43,53,87,32,49]\n",
    "\n",
    "result = summary_stats(ageList1)\n",
    "\n",
    "print result\n",
    "print type(result)\n",
    "\n",
    "print \"Average:%0.2f, Max:%d,Min:%d\" % (result[0],result[1],result[2])"
   ]
  },
  {
   "cell_type": "code",
   "execution_count": 38,
   "metadata": {
    "collapsed": false
   },
   "outputs": [
    {
     "name": "stdout",
     "output_type": "stream",
     "text": [
      "(45.714285714285715, 87, 23)\n",
      "<type 'tuple'>\n",
      "Average:45.71, Max:87,Min:23\n"
     ]
    }
   ],
   "source": [
    "ageList1 = [23,33,43,53,87,32,49]\n",
    "\n",
    "myAverage,myMax,myMin = summary_stats(ageList1)\n",
    "\n",
    "print result\n",
    "print type(result)\n",
    "\n",
    "print \"Average:%0.2f, Max:%d,Min:%d\" % (myAverage,myMax,myMin)"
   ]
  },
  {
   "cell_type": "markdown",
   "metadata": {},
   "source": [
    "### If function does not require all parameters, replace with underscore"
   ]
  },
  {
   "cell_type": "code",
   "execution_count": 39,
   "metadata": {
    "collapsed": false
   },
   "outputs": [
    {
     "name": "stdout",
     "output_type": "stream",
     "text": [
      "(45.714285714285715, 87, 23)\n",
      "<type 'tuple'>\n",
      "Average:49.88\n"
     ]
    }
   ],
   "source": [
    "ageList1 = [23,33,43,53,87,32,49,79]\n",
    "\n",
    "myAverage,_,_ = summary_stats(ageList1)\n",
    "\n",
    "print result\n",
    "print type(result)\n",
    "\n",
    "print \"Average:%0.2f\" % (myAverage)"
   ]
  },
  {
   "cell_type": "code",
   "execution_count": null,
   "metadata": {
    "collapsed": true
   },
   "outputs": [],
   "source": [
    "ageList1.sort"
   ]
  }
 ],
 "metadata": {
  "kernelspec": {
   "display_name": "Python 2",
   "language": "python",
   "name": "python2"
  },
  "language_info": {
   "codemirror_mode": {
    "name": "ipython",
    "version": 2
   },
   "file_extension": ".py",
   "mimetype": "text/x-python",
   "name": "python",
   "nbconvert_exporter": "python",
   "pygments_lexer": "ipython2",
   "version": "2.7.12"
  }
 },
 "nbformat": 4,
 "nbformat_minor": 2
}
