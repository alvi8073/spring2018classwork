{
 "cells": [
  {
   "cell_type": "code",
   "execution_count": 32,
   "metadata": {
    "collapsed": false
   },
   "outputs": [],
   "source": [
    "def average(numberList):\n",
    "    \n",
    "    # improvement 3 - validate input list for int/float\n",
    "    for val in numberList:\n",
    "        if type(val) not in [int,float]:\n",
    "            print \"Incompatible type encountered\"\n",
    "            return 0\n",
    "    \n",
    "    # improvement 2 - check for zero length\n",
    "    if len(numberList) == 0:\n",
    "        print \"Found zero length string. Returning zero\"\n",
    "        return 0\n",
    "    \n",
    "    # improvement 1 - cast the result to a float\n",
    "    myAverage = sum(numberList)/float(len(numberList))\n",
    "    \n",
    "    return myAverage"
   ]
  },
  {
   "cell_type": "code",
   "execution_count": 6,
   "metadata": {
    "collapsed": true
   },
   "outputs": [],
   "source": [
    "def average2(numberList):\n",
    "    \n",
    "    return sum(numberList)/len(numberList)\n"
   ]
  },
  {
   "cell_type": "code",
   "execution_count": 33,
   "metadata": {
    "collapsed": false
   },
   "outputs": [
    {
     "name": "stdout",
     "output_type": "stream",
     "text": [
      "Average age:     45.71\n",
      "Average age:    457.14\n"
     ]
    }
   ],
   "source": [
    "ageList1 = [23,33,43,53,87,32,49]\n",
    "\n",
    "print \"Average age:%10.2f\" % (average(ageList1))\n",
    "\n",
    "ageList2 = [230,330,430,530,870,320,490]\n",
    "print \"Average age:%10.2f\" % (average(ageList2))"
   ]
  },
  {
   "cell_type": "code",
   "execution_count": 12,
   "metadata": {
    "collapsed": false
   },
   "outputs": [
    {
     "name": "stdout",
     "output_type": "stream",
     "text": [
      "Average age: Found zero length string. Returning zero\n",
      "0\n"
     ]
    }
   ],
   "source": [
    "ageList = []\n",
    "\n",
    "print \"Average age:\", average(ageList)"
   ]
  },
  {
   "cell_type": "code",
   "execution_count": 16,
   "metadata": {
    "collapsed": false
   },
   "outputs": [
    {
     "name": "stdout",
     "output_type": "stream",
     "text": [
      "Average age: Incompatible type encountered\n",
      "0\n"
     ]
    }
   ],
   "source": [
    "ageList = [\"Harry\",\"Potter\"]\n",
    "\n",
    "print \"Average age:\", average(ageList)"
   ]
  },
  {
   "cell_type": "code",
   "execution_count": 2,
   "metadata": {
    "collapsed": false
   },
   "outputs": [
    {
     "name": "stdout",
     "output_type": "stream",
     "text": [
      "<built-in function max>\n"
     ]
    }
   ],
   "source": [
    "print max"
   ]
  },
  {
   "cell_type": "code",
   "execution_count": 44,
   "metadata": {
    "collapsed": false
   },
   "outputs": [],
   "source": [
    "def summary_stats(numberList):\n",
    "    \n",
    "    '''\n",
    "    Function Name: summary_stats\n",
    "    \n",
    "    Description: Compute summary statistics for the input numbers\n",
    "    \n",
    "    Input Arguments: List of int/float numbers\n",
    "    \n",
    "    Output Arguments: Tuple of (average,max,min)\n",
    "    '''\n",
    "\n",
    "    # improvement 3 - validate input list for int/float\n",
    "    for val in numberList:\n",
    "        if type(val) not in [int,float]:\n",
    "            print \"Incompatible type encountered\"\n",
    "            return 0\n",
    "    \n",
    "    # improvement 2 - check for zero length\n",
    "    if len(numberList) == 0:\n",
    "        print \"Found zero length string. Returning zero\"\n",
    "        return 0\n",
    "    \n",
    "    # improvement 1 - cast the result to a float\n",
    "    myAverage = sum(numberList)/float(len(numberList))\n",
    "    \n",
    "    # find max\n",
    "    myMax = max(numberList)\n",
    "    \n",
    "    # find min\n",
    "    myMin = min(numberList)\n",
    "    \n",
    "    return (myAverage,myMax,myMin)"
   ]
  },
  {
   "cell_type": "code",
   "execution_count": 43,
   "metadata": {
    "collapsed": false
   },
   "outputs": [
    {
     "name": "stdout",
     "output_type": "stream",
     "text": [
      "(49.875, 87, 23)\n"
     ]
    }
   ],
   "source": [
    "print summary_stats(ageList1)"
   ]
  },
  {
   "cell_type": "code",
   "execution_count": null,
   "metadata": {
    "collapsed": true
   },
   "outputs": [],
   "source": [
    "summary_stats"
   ]
  },
  {
   "cell_type": "code",
   "execution_count": 37,
   "metadata": {
    "collapsed": false
   },
   "outputs": [
    {
     "name": "stdout",
     "output_type": "stream",
     "text": [
      "(45.714285714285715, 87, 23)\n",
      "<type 'tuple'>\n",
      "Average:45.71, Max:87,Min:23\n"
     ]
    }
   ],
   "source": [
    "ageList1 = [23,33,43,53,87,32,49]\n",
    "\n",
    "result = summary_stats(ageList1)\n",
    "\n",
    "print result\n",
    "print type(result)\n",
    "\n",
    "print \"Average:%0.2f, Max:%d,Min:%d\" % (result[0],result[1],result[2])"
   ]
  },
  {
   "cell_type": "code",
   "execution_count": 38,
   "metadata": {
    "collapsed": false
   },
   "outputs": [
    {
     "name": "stdout",
     "output_type": "stream",
     "text": [
      "(45.714285714285715, 87, 23)\n",
      "<type 'tuple'>\n",
      "Average:45.71, Max:87,Min:23\n"
     ]
    }
   ],
   "source": [
    "ageList1 = [23,33,43,53,87,32,49]\n",
    "\n",
    "myAverage,myMax,myMin = summary_stats(ageList1)\n",
    "\n",
    "print result\n",
    "print type(result)\n",
    "\n",
    "print \"Average:%0.2f, Max:%d,Min:%d\" % (myAverage,myMax,myMin)"
   ]
  },
  {
   "cell_type": "markdown",
   "metadata": {},
   "source": [
    "### If function does not require all parameters, replace with underscore"
   ]
  },
  {
   "cell_type": "code",
   "execution_count": 39,
   "metadata": {
    "collapsed": false
   },
   "outputs": [
    {
     "name": "stdout",
     "output_type": "stream",
     "text": [
      "(45.714285714285715, 87, 23)\n",
      "<type 'tuple'>\n",
      "Average:49.88\n"
     ]
    }
   ],
   "source": [
    "ageList1 = [23,33,43,53,87,32,49,79]\n",
    "\n",
    "myAverage,_,_ = summary_stats(ageList1)\n",
    "\n",
    "print result\n",
    "print type(result)\n",
    "\n",
    "print \"Average:%0.2f\" % (myAverage)"
   ]
  },
  {
   "cell_type": "code",
   "execution_count": null,
   "metadata": {
    "collapsed": true
   },
   "outputs": [],
   "source": [
    "ageList1.sort"
   ]
  },
  {
   "cell_type": "markdown",
   "metadata": {},
   "source": [
    "### Function scope"
   ]
  },
  {
   "cell_type": "code",
   "execution_count": 48,
   "metadata": {
    "collapsed": false
   },
   "outputs": [
    {
     "data": {
      "text/plain": [
       "8"
      ]
     },
     "execution_count": 48,
     "metadata": {},
     "output_type": "execute_result"
    }
   ],
   "source": [
    "x = 12\n",
    "def g(x):\n",
    "    #x = x + 1\n",
    "    def h(y):\n",
    "        x = 2\n",
    "        return x + y\n",
    "    return h(6)\n",
    "g(x)"
   ]
  },
  {
   "cell_type": "markdown",
   "metadata": {},
   "source": [
    "### Keyword Arguments"
   ]
  },
  {
   "cell_type": "code",
   "execution_count": 50,
   "metadata": {
    "collapsed": true
   },
   "outputs": [],
   "source": [
    "def summary_stats(numberList=[20,30,40,30,20]):\n",
    "    \n",
    "    '''\n",
    "    Function Name: summary_stats\n",
    "    \n",
    "    Description: Compute summary statistics for the input numbers\n",
    "    \n",
    "    Input Arguments: List of int/float numbers\n",
    "    \n",
    "    Output Arguments: Tuple of (average,max,min)\n",
    "    '''\n",
    "\n",
    "    # improvement 3 - validate input list for int/float\n",
    "    for val in numberList:\n",
    "        if type(val) not in [int,float]:\n",
    "            print \"Incompatible type encountered\"\n",
    "            return 0\n",
    "    \n",
    "    # improvement 2 - check for zero length\n",
    "    if len(numberList) == 0:\n",
    "        print \"Found zero length string. Returning zero\"\n",
    "        return 0\n",
    "    \n",
    "    # improvement 1 - cast the result to a float\n",
    "    myAverage = sum(numberList)/float(len(numberList))\n",
    "    \n",
    "    # find max\n",
    "    myMax = max(numberList)\n",
    "    \n",
    "    # find min\n",
    "    myMin = min(numberList)\n",
    "    \n",
    "    return (myAverage,myMax,myMin)"
   ]
  },
  {
   "cell_type": "code",
   "execution_count": 53,
   "metadata": {
    "collapsed": false
   },
   "outputs": [
    {
     "data": {
      "text/plain": [
       "(457.14285714285717, 870, 230)"
      ]
     },
     "execution_count": 53,
     "metadata": {},
     "output_type": "execute_result"
    }
   ],
   "source": [
    "summary_stats(numberList=ageList)"
   ]
  },
  {
   "cell_type": "code",
   "execution_count": 54,
   "metadata": {
    "collapsed": false
   },
   "outputs": [
    {
     "data": {
      "text/plain": [
       "(457.14285714285717, 870, 230)"
      ]
     },
     "execution_count": 54,
     "metadata": {},
     "output_type": "execute_result"
    }
   ],
   "source": [
    "s = summary_stats\n",
    "\n",
    "s(ageList)"
   ]
  },
  {
   "cell_type": "code",
   "execution_count": 55,
   "metadata": {
    "collapsed": false
   },
   "outputs": [
    {
     "name": "stdout",
     "output_type": "stream",
     "text": [
      "<function summary_stats at 0x106a44848>\n"
     ]
    }
   ],
   "source": [
    "print s"
   ]
  },
  {
   "cell_type": "code",
   "execution_count": 56,
   "metadata": {
    "collapsed": false
   },
   "outputs": [
    {
     "data": {
      "text/plain": [
       "(28.0, 40, 20)"
      ]
     },
     "execution_count": 56,
     "metadata": {},
     "output_type": "execute_result"
    }
   ],
   "source": [
    "s()"
   ]
  },
  {
   "cell_type": "markdown",
   "metadata": {},
   "source": [
    "### String manipulation example"
   ]
  },
  {
   "cell_type": "code",
   "execution_count": 57,
   "metadata": {
    "collapsed": true
   },
   "outputs": [],
   "source": [
    "str1 = 'exterminate!' \n",
    "str2 = 'number one - the larch'"
   ]
  },
  {
   "cell_type": "code",
   "execution_count": 59,
   "metadata": {
    "collapsed": false
   },
   "outputs": [
    {
     "data": {
      "text/plain": [
       "<function upper>"
      ]
     },
     "execution_count": 59,
     "metadata": {},
     "output_type": "execute_result"
    }
   ],
   "source": [
    "str1.upper"
   ]
  },
  {
   "cell_type": "code",
   "execution_count": 60,
   "metadata": {
    "collapsed": false
   },
   "outputs": [
    {
     "data": {
      "text/plain": [
       "'EXTERMINATE!'"
      ]
     },
     "execution_count": 60,
     "metadata": {},
     "output_type": "execute_result"
    }
   ],
   "source": [
    "str1.upper()"
   ]
  },
  {
   "cell_type": "code",
   "execution_count": 65,
   "metadata": {
    "collapsed": false
   },
   "outputs": [
    {
     "data": {
      "text/plain": [
       "'ABCDEFGHIJKLMNOPQRSTUVWXYZabcdefghijklmnopqrstuvwxyz'"
      ]
     },
     "execution_count": 65,
     "metadata": {},
     "output_type": "execute_result"
    }
   ],
   "source": [
    "import string\n",
    "\n",
    "string.letters"
   ]
  },
  {
   "cell_type": "markdown",
   "metadata": {},
   "source": [
    "### word count"
   ]
  },
  {
   "cell_type": "code",
   "execution_count": 69,
   "metadata": {
    "collapsed": false
   },
   "outputs": [
    {
     "name": "stdout",
     "output_type": "stream",
     "text": [
      "{'limited': 2, 'saves': 1, 'knelt': 1, 'four': 6, 'sleep': 4, 'hanging': 3, 'ringlets': 1, 'oldest': 1, 'hate': 1, 'assembled': 2, 'consider': 1, 'whose': 2, 'calculate': 1, 'swam': 5, 'presents': 2, 'under': 21, 'teaching': 1, 'sorry': 1, 'worth': 4, 'void': 1, 'rise': 1, 'every': 12, 'govern': 1, 'fireplace': 1, 'school': 4, 'prize': 1, 'wooden': 1, 'pinch': 1, 'NEAR': 1, 'Go': 1, 'favoured': 1, 'tired': 7, 'efforts': 2, 'BEG': 1, 'elegant': 1, 'likely': 4, 'louder': 1, 'compliance': 3, 'CURTSEYING': 1, 'machines': 1, 'shining': 1, 'even': 18, 'meekly': 1, 'VOICE': 1, 'hide': 1, 'Creating': 1, 'solemn': 3, 'above': 3, 'conduct': 1, 'new': 7, 'increasing': 1, 'ever': 16, 'told': 6, 'dreadful': 1, 'join': 9, 'never': 37, 'wrapping': 1, 'here': 14, 'hundreds': 1, 'met': 4, 'UNDER': 1, 'hers': 3, 'shriek': 3, 'dry': 7, 'property': 2, 'daughter': 1, 'leaves': 2, 'changed': 7, 'credit': 1, 'barrowful': 2, 'smoke': 1, 'unenforceability': 1, 'Wonderland': 2, 'settled': 3, 'ventured': 4, 'golden': 7, 'besides': 1, 'owed': 1, 'angrily': 2, 'feelings': 1, 'brought': 3, 'patience': 1, 'moral': 6, 'guests': 2, 'drowned': 1, 'punching': 1, 'spoke': 4, 'would': 68, 'June': 1, 'arms': 5, 'insult': 1, 'distributing': 6, 'call': 5, 'leant': 1, 'survive': 1, 'tell': 26, 'breathe': 1, 'paperwork': 1, 'peeping': 1, 'hurt': 2, 'glass': 4, 'excellent': 2, 'address': 1, 'hold': 7, 'outdated': 1, 'must': 48, 'me': 46, 'ma': 1, 'room': 8, 'work': 39, 'Most': 1, 'roof': 5, 'obstacle': 1, 'elbow': 2, 'my': 55, 'shook': 9, 'NOTICE': 1, 'Lory': 3, 'give': 12, 'unjust': 1, 'flung': 1, 'organized': 1, 'want': 9, 'keep': 10, 'returned': 1, 'end': 12, 'thing': 35, 'complaining': 1, 'agony': 1, 'puzzled': 5, 'damage': 1, 'ONE': 2, 'machine': 1, 'how': 41, 'hot': 4, 'games': 1, 'answer': 6, 'truthful': 1, 'Zealand': 1, 'poker': 1, 'flustered': 1, 'WOULD': 5, 'after': 35, 'containing': 1, 'Will': 4, 'wrong': 2, 'jumping': 4, 'lay': 4, 'law': 1, 'lap': 2, 'types': 1, 'All': 3, 'attempt': 1, 'wink': 2, 'wriggling': 1, 'green': 3, 'Mabel': 1, 'DISCLAIMER': 1, 'order': 2, 'hedgehog': 5, 'sprawling': 1, 'executed': 2, 'office': 2, 'dreamed': 1, 'over': 31, 'executes': 1, 'crumbs': 1, 'before': 20, 'His': 1, 'somewhere': 1, 'lefthand': 2, 'fix': 2, 'Here': 5, 'writing': 7, 'better': 11, 'glanced': 1, 'croquet': 3, 'overcome': 1, 'then': 50, 'them': 49, 'slate': 1, 'safe': 2, 'Longitude': 2, 'break': 1, 'they': 109, 'interrupt': 1, 'one': 78, 'alternately': 1, 'eleventh': 1, 'roast': 1, 'each': 8, 'went': 79, 'Mouse': 17, 'side': 12, 'bone': 1, 'mean': 7, 'lifted': 1, 'financial': 1, 'telescope': 1, 'PARAGRAPH': 1, 'series': 1, 'SOME': 1, 'dodged': 1, 'vote': 1, 'taught': 4, 'BOOTS': 1, 'forgot': 2, 'Latitude': 2, 'flock': 1, 'array': 1, 'reminding': 1, 'velvet': 1, 'network': 1, 'sighing': 2, 'persisted': 1, 'fellows': 1, 'William': 3, 'laid': 2, 'Rabbit': 29, 'surprise': 1, 'size': 6, 'forth': 8, 'splashed': 1, 'stamping': 2, 'turning': 12, 'written': 9, 'Dodo': 9, 'given': 2, 'free': 7, 'whereupon': 1, 'mallets': 1, 'North': 1, 'wanted': 4, 'enormous': 1, 'ate': 1, 'ANYTHING': 1, 'shelves': 1, 'cackled': 1, 'messages': 2, 'days': 6, 'Its': 2, 'hopeless': 1, 'footsteps': 1, 'purpose': 1, 'enjoy': 1, 'already': 2, 'synonymous': 1, 'encouraging': 2, 'hearing': 3, 'wash': 2, 'another': 21, 'FITNESS': 1, 'thoughtfully': 1, 'thick': 1, 'electronic': 27, 'uneasily': 1, 'awfully': 1, 'top': 8, 'girls': 3, 'master': 2, 'too': 21, 'wildly': 2, 'legs': 3, 'dogs': 1, 'listen': 4, 'consented': 1, 'solemnly': 2, 'took': 23, 'positively': 1, 'begins': 4, 'distance': 1, 'Carroll': 4, 'second': 6, 'seated': 1, 'shower': 2, 'matter': 8, 'splendidly': 1, 'exclaimed': 4, 'flame': 1, 'friend': 2, 'feeling': 6, 'ran': 13, 'mind': 4, 'mine': 3, 'talking': 12, 'manner': 1, 'Crab': 1, 'seen': 12, 'seem': 7, 'Mercia': 2, 'tells': 2, 'Then': 9, 'secure': 1, 'thoroughly': 2, 'NEVER': 2, 'eagerly': 3, 'subjects': 1, 'doors': 2, 'laughed': 1, 'nobody': 3, 'though': 6, 'Newby': 1, 'regular': 2, 'mouth': 7, 'plenty': 1, 'grave': 3, 'Lewis': 4, 'alarm': 1, 'paragraphs': 3, 'dog': 2, 'swamp': 1, 'ridiculous': 1, 'BREACH': 2, 'notion': 3, 'came': 38, 'decidedly': 1, 'saying': 11, 'deductible': 1, 'retire': 1, 'ending': 1, 'attempts': 1, 'queer': 9, 'earth': 1, 'lessons': 4, 'flowers': 2, 'spite': 1, 'explain': 8, 'THAT': 8, 'folded': 1, 'sugar': 1, 'deepest': 1, 'rich': 1, 'do': 60, 'mouths': 1, 'Royalty': 2, 'squeaking': 2, 'watch': 5, 'coast': 1, 'patted': 1, 'shutting': 2, 'altogether': 1, 'learned': 1, 'comply': 6, 'countries': 1, 'nicely': 2, 'anxiously': 13, 'shape': 1, 'licking': 1, 'method': 1, 'twice': 1, 'bad': 1, 'softly': 1, 'Melan': 1, 'ears': 4, 'blew': 2, 'questions': 2, 'fair': 1, 'depends': 2, 'decided': 3, 'flashed': 1, 'cattle': 1, 'corrupt': 1, 'miserable': 2, 'Hardly': 1, 'best': 7, 'subject': 3, 'pebbles': 2, 'pocket': 1, 'said': 416, 'Run': 1, 'away': 17, 'POSSIBILITY': 1, 'THAN': 1, 'unable': 1, 'finger': 3, 'sorts': 3, 'approach': 1, 'preserve': 1, 'claws': 1, 'we': 23, 'interrupting': 2, 'terms': 20, 'confusion': 3, 'weak': 2, 'Edgar': 1, 'camomile': 1, 'twinkling': 3, 'drew': 5, 'extent': 1, 'picking': 2, 'kitchen': 2, 'pity': 1, 'received': 6, 'protect': 2, 'accident': 1, 'reported': 1, 'country': 3, 'cup': 1, 'adventures': 2, 'against': 10, 'players': 2, 'MILLENNIUM': 1, 'faces': 2, 'expense': 1, 'asked': 8, 'tone': 8, 'GIVE': 1, 'appeared': 3, 'royal': 2, 'lullaby': 1, 'height': 4, 'active': 2, 'speak': 8, 'shouting': 2, 'tarts': 3, 'three': 23, 'tiny': 4, 'quarrelling': 2, 'chimneys': 1, 'trampled': 1, 'interest': 1, 'lovely': 2, 'threw': 2, 'life': 2, 'wags': 1, 'mushroom': 4, 'twinkled': 1, 'concerning': 2, 'uncommon': 1, 'locations': 1, 'child': 3, 'catch': 3, 'doth': 2, 'has': 8, 'disclaimers': 1, 'lessen': 1, 'air': 2, 'ugly': 1, 'near': 13, 'suppose': 8, 'stopping': 1, 'voice': 17, 'employees': 2, 'mistake': 2, 'remembering': 1, 'seven': 1, 'Queen': 34, 'played': 1, 'HATED': 1, 'is': 89, 'it': 356, 'clinging': 1, 'in': 401, 'mouse': 3, 'Tell': 3, 'if': 73, 'grown': 7, 'growl': 1, 'things': 21, 'make': 29, 'format': 4, 'Stop': 1, 'clearly': 1, 'forehead': 2, 'GUTENBERG': 3, 'unfortunate': 3, 'Of': 1, 'plates': 1, 'several': 5, 'eBooks': 3, 'RETURNED': 1, 'tops': 1, 'hand': 11, 'delight': 1, 'NOT': 7, 'dozing': 1, 'opportunity': 9, 'thoughts': 2, 'kid': 5, 'butter': 1, 'hearth': 1, 'kept': 13, 'pattering': 3, 'changes': 2, 'possessed': 1, 'humble': 1, 'Mind': 1, 'contact': 3, 'Table': 1, 'the': 1664, 'yours': 1, 'left': 13, 'just': 43, 'sentence': 6, 'distribute': 5, 'sleepy': 3, 'verses': 3, 'farther': 1, 'yer': 4, 'yet': 6, 'electronically': 1, 'previous': 1, 'snout': 1, 'spectacles': 1, 'had': 175, 'belongs': 2, 'easy': 2, 'save': 1, 'gave': 13, 'boxed': 1, 'possible': 1, 'possibly': 3, 'dreamy': 1, 'afore': 1, 'replace': 1, 'shoulder': 3, 'appearing': 2, 'seaside': 1, 'specific': 1, 'officer': 1, 'night': 1, 'hung': 1, 'Stole': 1, 'right': 22, 'old': 14, 'deal': 11, 'people': 13, 'crown': 2, 'somehow': 1, 'dead': 4, 'escape': 1, 'dear': 6, 'Off': 2, 'bore': 1, 'goldfish': 2, 'creep': 1, 'HE': 3, 'denies': 1, 'for': 146, 'bottom': 4, 'Nobody': 1, 'everything': 9, 'asking': 3, 'Let': 6, 'denied': 1, 'serpents': 2, 'beating': 1, 'He': 14, 'pinched': 2, 'knew': 13, 'burn': 2, 'costs': 2, 'lamps': 1, 'Project': 77, 'bowing': 1, 'permitted': 3, 'First': 2, 'wept': 1, 'limitation': 3, 'choke': 1, 'Evidence': 1, 'despair': 1, 'permission': 6, 'Still': 1, 'raised': 2, 'statements': 1, 'wasting': 2, 'obtaining': 2, 'delighted': 2, 'cauldron': 2, 'down': 77, 'respectable': 1, 'bats': 1, 'PLENTY': 1, 'lieu': 2, 'balanced': 1, 'federal': 2, 'frightened': 7, 'methods': 1, 'Unless': 1, 'crowd': 4, 'wag': 1, 'support': 3, 'sneezing': 4, 'why': 7, 'way': 39, 'editions': 5, 'was': 329, 'happy': 1, 'fork': 1, 'head': 29, 'creation': 1, 'form': 2, 'offer': 2, 'attempted': 1, 'back': 29, 'hear': 15, 'heap': 1, 'removed': 1, 'especially': 1, 'flavour': 1, 'rippling': 1, 'attached': 1, 'maximum': 1, 'until': 4, 'scream': 1, 'unusually': 1, 'more': 38, 'temper': 1, 'gather': 1, 'proved': 2, 'sticks': 1, 'screaming': 1, 'upset': 2, 'Between': 1, 'TWO': 1, 'muscular': 1, 'hungry': 2, 'howling': 3, 'guessed': 3, 'promised': 1, 'curious': 16, 'accounting': 1, 'check': 2, 'physical': 2, 'solicitation': 1, 'Only': 1, 'no': 72, 'generally': 5, 'handed': 3, 'beheading': 1, 'setting': 1, 'holding': 2, 'tie': 1, 'vanished': 3, 'confusing': 2, 'shrink': 1, 'pronounced': 1, 'welcome': 1, 'fell': 6, 'ridges': 1, 'Duchess': 15, 'inkstand': 1, 'unlocking': 1, 'died': 1, 'cheated': 1, 'Mission': 1, 'together': 2, 'beds': 1, 'longed': 2, 'contemptuous': 1, 'time': 46, 'push': 1, 'treading': 2, 'Contributions': 1, 'profits': 1, 'concept': 2, 'managed': 3, 'remarkable': 2, 'dance': 2, 'untwist': 1, 'rudeness': 1, 'invent': 1, 'crocodile': 1, 'mile': 1, 'displaying': 2, 'milk': 1, 'row': 2, 'certainly': 8, 'Exactly': 1, 'passage': 1, 'answered': 3, 'charge': 6, 'unpleasant': 2, 'promoting': 2, 'jogged': 1, 'fancied': 2, 'brown': 1, 'FULL': 2, 'advantage': 2, 'cheap': 1, 'Adventures': 4, 'liability': 1, 'DAMAGES': 2, 'stays': 1, 'cook': 8, 'word': 8, 'trouble': 4, 'Volunteers': 1, 'exact': 1, 'feeble': 1, 'minute': 15, 'cool': 2, 'sighed': 5, 'Just': 5, 'presented': 1, 'did': 50, 'turns': 1, 'dig': 1, 'accidentally': 1, 'Atheling': 1, 'WILL': 4, 'settle': 1, 'quick': 1, 'round': 30, 'prevent': 2, 'brave': 1, 'says': 4, 'tougher': 1, 'discover': 1, 'sign': 1, 'cost': 3, 'dried': 1, 'eating': 1, 'helpless': 1, 'irritated': 1, 'appear': 2, 'assistance': 1, 'uniform': 1, 'current': 1, 'paragraph': 10, 'lazily': 1, 'goes': 7, 'Imagine': 1, 'reply': 1, 'falling': 2, 'ground': 2, 'filled': 3, 'growls': 1, 'processing': 1, 'jury': 9, 'Tortoise': 1, 'water': 2, 'twentieth': 1, 'yards': 1, 'English': 2, 'hoarse': 2, 'along': 5, 'My': 1, 'change': 9, 'box': 3, 'sending': 3, 'thirty': 1, 'EVER': 1, 'wherever': 2, 'trial': 4, 'usually': 2, 'shifting': 1, 'quarrel': 1, 'Said': 4, 'elect': 1, 'morals': 1, 'READ': 1, 'hopeful': 1, 'merely': 2, 'When': 7, 'marked': 7, 'losing': 1, 'puffed': 1, 'Therefore': 1, 'quiver': 1, 'swallowed': 1, 'stingy': 1, 'everybody': 5, 'driest': 1, 'angry': 3, 'visit': 1, 'only': 45, 'live': 7, 'wood': 2, 'somersault': 1, 'wondering': 7, 'associated': 7, 'Those': 1, 'loving': 1, 'roared': 1, 'entrance': 1, 'October': 1, 'These': 2, 'Public': 1, 'ignorant': 1, 'Time': 1, 'WONDERLAND': 3, 'effort': 1, 'fly': 1, 'deserved': 1, 'pretend': 1, 'PLEASE': 2, 'modified': 1, 'cat': 7, 'Down': 1, 'soup': 1, 'can': 37, 'growing': 6, 'Our': 1, 'Archive': 13, 'slightest': 1, 'heart': 2, 'undertone': 1, 'nursing': 3, 'figure': 1, 'arise': 1, 'confused': 3, 'agent': 1, 'paused': 1, 'heard': 29, 'chin': 4, 'dropped': 4, 'phrase': 4, 'counting': 1, 'stole': 1, 'YOUR': 7, 'pink': 1, 'Terms': 2, 'winter': 1, 'fortunately': 1, 'buttered': 1, 'Who': 6, 'write': 5, 'till': 19, 'License': 8, 'may': 26, 'neat': 1, 'dive': 1, 'crashed': 1, 'birthday': 1, 'tipped': 1, 'mad': 5, 'date': 2, 'such': 45, 'grow': 13, 'man': 1, 'scrambling': 1, 'natural': 3, 'remember': 12, 'succeeded': 3, 'stupidly': 1, 'tale': 1, 'provide': 6, 'so': 104, 'crept': 1, 'offend': 1, 'pulled': 1, 'talk': 10, 'recognised': 1, 'refund': 6, 'Mississippi': 1, 'INCIDENTAL': 1, 'shoes': 5, 'seeing': 1, 'indeed': 3, 'pointed': 1, 'Use': 2, 'entity': 3, 'course': 11, 'quarrelled': 1, 'shake': 1, 'argued': 1, 'White': 22, 'still': 12, 'birds': 7, 'limbs': 1, 'derive': 1, 'yawning': 1, 'thank': 1, 'curly': 1, 'interesting': 3, 'curls': 1, 'EXCEPT': 1, 'civil': 2, 'offers': 1, 'dreadfully': 6, 'main': 1, 'happened': 3, 'roses': 1, 'non': 1, 'lonely': 2, 'tucked': 3, 'conversations': 1, 'Compliance': 1, 'sooner': 2, 'bound': 3, 'underneath': 1, 'EVEN': 2, 'tails': 3, 'She': 33, 'half': 21, 'not': 122, 'now': 23, 'provision': 1, 'hall': 1, 'nor': 2, 'execute': 1, 'shouted': 9, 'name': 9, 'drop': 1, 'scolded': 1, 'entirely': 2, 'creature': 2, 'A': 8, 'domain': 7, 'bursting': 1, 'beloved': 1, 'Except': 2, 'hurried': 11, 'catching': 2, 'begun': 6, 'year': 2, 'girl': 3, 'exclamation': 1, 'living': 1, 'canvas': 1, 'opened': 9, 'profit': 1, 'Suppress': 1, 'abide': 2, 'hastily': 7, 'looking': 30, 'miles': 3, 'receiving': 1, 'juror': 1, 'attended': 1, 'END': 2, 'quite': 53, 'bringing': 3, 'Either': 1, 'Knave': 7, 'card': 1, 'care': 4, 'advance': 1, 'AGREEMENT': 1, 'honest': 1, 'turn': 6, 'place': 7, 'invalidity': 1, 'invitation': 2, 'promotion': 1, 'think': 37, 'waited': 9, 'first': 28, 'Even': 1, 'flying': 1, 'spoken': 1, 'There': 21, 'yourself': 5, 'merrily': 1, 'fast': 4, 'directly': 1, 'carry': 2, 'impossible': 2, 'sounds': 3, 'fight': 2, 'open': 6, 'appealed': 1, 'cheerfully': 1, 'little': 117, 'necessarily': 1, 'checked': 3, 'silent': 3, 'arch': 1, 'caught': 3, 'anyone': 4, 'indicate': 1, 'legally': 1, 'white': 6, 'speaking': 2, 'eyes': 18, 'mostly': 1, 'that': 226, 'snatch': 2, 'alas': 1, 'copy': 8, 'holder': 1, 'than': 24, 'Replacement': 1, 'wide': 2, 'Seven': 3, 'accordance': 2, 'require': 1, 'future': 3, 'venture': 3, 'were': 82, 'proofread': 1, 'wandering': 1, 'and': 780, 'addressing': 1, 'tasted': 2, 'remained': 3, 'turned': 16, 'argument': 4, 'voices': 2, 'say': 35, 'medium': 3, 'Footman': 4, 'anger': 1, 'themselves': 2, 'saw': 13, 'any': 67, 'sat': 17, 'snorting': 1, 'Do': 8, 'transcription': 1, 'wandered': 2, 'equipment': 1, 'hookah': 4, 'take': 18, 'online': 4, 'destroy': 2, 'encouraged': 1, 'begin': 7, 'sure': 16, 'straightening': 1, 'opposite': 1, 'neatly': 2, 'clearer': 1, 'paid': 6, 'donation': 1, 'printed': 3, 'pair': 5, 'knee': 1, 'cleared': 1, 'pages': 1, 'pencils': 1, 'Foundation': 14, 'fills': 1, 'considered': 3, 'proud': 2, 'steady': 1, 'drive': 1, 'managing': 1, 'stockings': 1, 'salt': 2, 'trembled': 2, 'laws': 7, 'REMEDIES': 1, 'Web': 3, 'walking': 5, 'show': 3, 'Character': 1, 'discovered': 1, 'bright': 7, 'corner': 1, 'fifth': 1, 'curled': 2, 'We': 2, 'BUSY': 1, 'busily': 4, 'Posting': 1, 'histories': 1, 'considerable': 2, 'coaxing': 1, 'tears': 4, 'going': 26, 'watching': 3, 'posted': 5, 'shrill': 3, 'dispute': 2, 'get': 43, 'between': 5, 'HAD': 1, 'mission': 3, 'Turn': 1, 'cannot': 5, 'nearly': 11, 'Sends': 1, 'seldom': 1, 'morning': 1, 'stupid': 1, 'Lobster': 4, 'finishing': 1, 'where': 10, 'deletions': 1, 'declared': 1, 'concert': 1, 'burst': 1, 'fanned': 1, 'up': 83, 'asleep': 4, 'violates': 1, 'wonder': 15, 'That': 3, 'ways': 2, 'jumped': 5, 'label': 1, 'teacup': 3, 'behind': 12, 'hiss': 1, 'cautiously': 2, 'reading': 3, 'across': 5, 'whispered': 4, 'notice': 7, 'FOR': 3, 'queerest': 1, 'killing': 1, 'blame': 1, 'gratefully': 1, 'singers': 1, 'come': 22, 'croqueted': 1, 'dates': 1, 'many': 13, 'stupidest': 1, 'quiet': 2, 'blasts': 2, 'personal': 2, 'loudly': 2, 'disappointment': 1, 'LIABLE': 1, 'railway': 1, 'expression': 1, 'comes': 1, 'riddle': 1, 'among': 12, 'loveliest': 1, 'sulky': 2, 'pop': 1, 'stretched': 2, 'learning': 2, 'constant': 3, 'custody': 2, 'considering': 3, 'Pepper': 1, 'uglify': 1, 'cares': 2, 'suppressed': 3, 'But': 15, 'mark': 2, 'Luckily': 1, 'punished': 1, 'judging': 1, 'hardly': 11, 'wants': 2, 'direction': 2, 'Involved': 1, 'thousand': 2, 'exporting': 1, 'flurry': 1, 'ANY': 3, 'evidence': 3, 'WAS': 4, 'those': 9, 'case': 4, 'myself': 2, 'folding': 1, 'turtles': 1, 'these': 14, 'sobbed': 1, 'PERSONS': 1, 'proves': 1, 'squeezed': 1, 'invited': 1, 'Additional': 1, 'donors': 1, 'Edwin': 1, 'engaged': 1, 'Revenue': 1, 'middle': 3, 'sudden': 5, 'PUNITIVE': 1, 'heels': 1, 'return': 3, 'worry': 1, 'different': 5, 'paw': 1, 'pay': 1, 'granted': 1, 'same': 22, 'speech': 1, 'arguments': 1, 'week': 2, 'finish': 4, 'I': 260, 'IS': 8, 'IT': 1, 'Soup': 4, 'running': 8, 'formats': 2, 'IN': 5, 'changing': 2, 'passing': 1, 'IF': 1, 'complained': 1, 'Owl': 2, 'jurors': 3, 'keeping': 4, 'charges': 1, 'It': 17, 'without': 32, 'grinned': 2, 'bottle': 7, 'In': 6, 'If': 17, 'summer': 2, 'United': 10, 'being': 19, 'when': 67, 'rest': 9, 'violent': 2, 'growled': 1, 'kill': 1, 'touch': 1, 'speed': 1, 'blow': 2, 'detach': 1, 'dipped': 2, 'Her': 3, 'widest': 2, 'hint': 1, 'thinking': 10, 'rose': 1, 'Advice': 1, 'seems': 4, 'except': 4, 'confirmed': 1, 'verse': 1, 'treatment': 1, 'Multiplication': 1, 'struck': 2, 'ornamented': 2, 'real': 3, 'around': 2, 'kills': 1, 'read': 10, 'Many': 1, 'DISTRIBUTE': 1, 'lowing': 1, 'Nile': 1, 'Tale': 1, 'politely': 1, 'world': 6, 'earls': 2, 'Magpie': 1, 'lady': 2, 'vague': 1, 'dare': 5, 'tremulous': 1, 'draggled': 1, 'Pig': 1, 'London': 1, 'either': 6, 'passionate': 1, 'reduced': 1, 'twelve': 2, 'shillings': 1, 'calculated': 1, 'lobster': 1, 'specified': 2, 'New': 1, 'Mary': 3, 'mustard': 2, 'provided': 3, 'legal': 2, 'critical': 1, 'expressing': 1, 'knife': 1, 'muttered': 2, 'felt': 23, 'reasonable': 2, 'business': 3, 'broken': 5, 'references': 2, 'throw': 3, 'on': 148, 'subdued': 1, 'oh': 1, 'of': 596, 'violence': 1, 'accepted': 1, 'shrimp': 1, 'stand': 4, 'act': 1, 'mixed': 2, 'notifies': 1, 'or': 137, 'Laughing': 1, 'imitated': 1, 'quietly': 4, 'Heads': 1, 'burning': 1, 'No': 2, 'trot': 1, 'trademark': 3, 'spreading': 1, 'PROVES': 1, 'rising': 1, 'determine': 1, 'dreaming': 1, 'End': 1, 'shrinking': 4, 'your': 62, 'her': 203, 'NO': 3, 'there': 44, 'start': 1, 'cats': 9, 'low': 7, 'lot': 1, 'jaws': 1, 'attends': 1, 'enough': 10, 'mice': 3, 'trying': 11, 'with': 214, 'copied': 2, 'longer': 2, 'rush': 2, 'eBook': 5, 'tones': 2, 'grass': 2, 'agree': 9, 'Special': 1, 'gone': 9, 'USE': 1, 'fright': 1, 'taste': 2, 'certain': 4, 'moved': 4, 'deep': 5, 'general': 3, 'How': 9, 'as': 246, 'bawled': 1, 'at': 211, 'file': 2, 'walks': 1, 'watched': 2, 'again': 13, 'rubbed': 1, 'field': 1, 'implied': 1, 'remarks': 1, 'you': 301, 'puppy': 5, 'Vanilla': 2, 'poor': 25, 'indemnify': 1, 'oneself': 1, 'inquired': 1, 'uncorked': 1, 'THERE': 1, 'contradicted': 1, 'includes': 1, 'waving': 5, 'START': 1, 'important': 4, 'included': 2, 'brass': 1, 'sneeze': 1, 'pool': 6, 'Majesty': 2, 'sobbing': 2, 'tricks': 1, 'Executive': 1, 'Pennyworth': 2, 'having': 10, 'principal': 1, 'original': 1, 'all': 168, 'forget': 2, 'pointing': 3, 'SIT': 1, 'caused': 2, 'month': 1, 'Take': 1, 'dish': 3, 'follow': 2, 'faster': 1, 'children': 5, 'whiting': 3, 'content': 1, 'ravens': 1, 'hunting': 3, 'startled': 2, 'encourage': 1, 'opportunities': 1, 'to': 773, 'tail': 3, 'solicit': 2, 'crimson': 2, 'sound': 3, 'worse': 2, 'sitting': 10, 'very': 127, 'toss': 1, 'fan': 8, 'minded': 1, 'hatching': 1, 'fall': 6, 'Salt': 1, 'REPLACEMENT': 1, 'washing': 1, 'EXPRESS': 1, 'list': 2, 'joined': 2, 'Canary': 1, 'large': 32, 'sang': 2, 'sand': 1, 'small': 10, 'familiarly': 1, 'rats': 1, 'ten': 5, 'tea': 5, 'past': 1, 'rate': 4, 'pass': 1, 'further': 2, 'INDEMNITY': 1, 'creatures': 6, 'grinning': 1, 'what': 86, 'Latin': 1, 'stood': 7, 'darkness': 1, 'clock': 1, 'deeply': 1, 'stool': 1, 'CONTRACT': 1, 'stoop': 1, 'version': 1, 'nurse': 1, 'public': 8, 'full': 16, 'compilation': 1, 'loose': 2, 'hours': 3, 'Contact': 1, 'affectionately': 1, 'directions': 1, 'AGREE': 2, 'Silence': 1, 'search': 2, 'SAID': 1, 'extraordinary': 2, 'stretching': 1, 'soldier': 1, 'periodic': 1, 'murdering': 1, 'narrow': 1, 'followed': 8, 'family': 1, 'suddenly': 9, 'clapping': 1, 'usurpation': 1, 'put': 31, 'Tears': 1, 'toys': 1, 'thatched': 1, 'research': 1, 'RED': 1, 'eye': 4, 'takes': 3, 'injure': 1, 'faint': 1, 'two': 20, 'damaged': 1, 'taken': 4, 'rubbing': 2, 'OUT': 1, 'flat': 1, 'wretched': 2, 'door': 15, 'knows': 2, 'company': 1, 'site': 4, 'So': 23, 'broke': 2, 'particular': 3, 'known': 1, 'hurry': 4, 'producing': 1, 'glad': 11, 'cunning': 1, 'Literary': 13, 'none': 3, 'Now': 2, 'hour': 2, 'Copyright': 1, 'sulkily': 2, 'created': 2, 'ADVENTURES': 3, 'offended': 7, 'remain': 2, 'pressing': 1, 'nine': 4, 'indicating': 1, 'learn': 5, 'obtain': 3, 'history': 1, 'beautiful': 8, 'feebly': 1, 'rustled': 1, 'share': 2, 'accept': 1, 'Defect': 1, 'states': 4, 'confirmation': 1, 'CAN': 4, 'sense': 1, 'sharp': 6, 'condemn': 1, 'information': 2, 'needs': 1, 'court': 5, 'FIT': 1, 'rather': 25, 'disclaim': 1, 'maps': 1, 'footman': 3, 'THROUGH': 1, 'Improve': 1, 'skurried': 1, 'SOMEBODY': 1, 'tried': 18, 'derived': 1, 'OTHER': 1, 'purring': 1, 'coming': 5, 'gardeners': 4, 'HIGH': 1, 'pleaded': 3, 'unlink': 1, 'hedgehogs': 1, 'a': 662, 'short': 4, 'crowded': 5, 'loud': 3, 'eats': 1, 'pleasure': 2, 'dream': 3, 'playing': 2, 'replied': 14, 'What': 4, 'help': 11, 'incessantly': 1, 'hypertext': 1, 'TRADEMARK': 1, 'soon': 23, 'held': 4, 'paper': 4, 'through': 14, 'committed': 1, 'smiling': 2, 'its': 60, 'roots': 1, 'fanning': 1, 'Full': 1, 'March': 31, 'forwards': 1, 'Where': 3, 'buttercup': 1, 'actually': 1, 'late': 3, 'harmless': 1, 'parts': 1, 'remarked': 1, 'might': 27, 'good': 23, 'somebody': 3, 'unrolled': 2, 'Please': 1, 'Michael': 2, 'noticing': 1, 'foot': 5, 'executions': 2, 'easily': 4, 'always': 11, 'rattle': 1, 'fluttered': 1, 'someone': 1, 'stopped': 3, 'found': 31, 'repeating': 3, 'pleasanter': 1, 'heavy': 2, 'status': 4, 'harm': 1, 'transcribe': 1, 'begged': 1, 'house': 8, 'fish': 2, 'hard': 8, 'idea': 14, 'Waiting': 1, 'scratching': 1, 'really': 9, 'leave': 6, 'dears': 1, 'missed': 2, 'wondered': 1, 'rearing': 1, 'since': 4, 'pigeon': 1, 'trusts': 1, 'print': 1, 'crouched': 1, 'upon': 28, 'guess': 2, 'pleasant': 1, 'difficulty': 3, 'reason': 8, 'SHE': 1, 'imagine': 1, 'ask': 7, 'rises': 1, 'beginning': 12, 'thrown': 1, 'pairs': 1, 'computers': 1, 'curtsey': 1, 'terribly': 1, 'expecting': 3, 'leading': 1, 'fallen': 4, 'porpoise': 1, 'slipped': 2, 'Panther': 3, 'feel': 8, 'number': 7, 'fancy': 3, 'feet': 11, 'done': 10, 'shilling': 1, 'fees': 2, 'miss': 1, 'story': 2, 'heads': 7, 'redistributing': 1, 'twenty': 1, 'least': 7, 'paint': 1, 'wonderful': 2, 'passed': 4, 'hundred': 1, 'recovered': 2, 'bowed': 3, 'relieved': 1, 'uncommonly': 1, 'immediate': 3, 'procession': 2, 'part': 5, 'Long': 1, 'believe': 8, 'kind': 6, 'grew': 1, 'kindly': 1, 'double': 1, 'grey': 1, 'stalk': 1, 'treated': 1, 'declare': 1, 'executioner': 3, 'uncomfortable': 1, 'dainties': 1, 'Father': 2, 'defect': 2, 'livery': 1, 'murder': 1, 'fading': 1, 'sell': 1, 'lie': 2, 'dancing': 1, 'Sections': 1, 'commotion': 1, 'officers': 3, 'lit': 1, 'swallowing': 1, 'breeze': 1, 'finding': 3, 'With': 2, 'frontispiece': 1, 'play': 8, 'added': 20, 'VERY': 12, 'eggs': 1, 'reach': 4, 'most': 10, 'Chief': 1, 'plan': 1, 'eaten': 1, 'nothing': 22, 'accepting': 1, 'The': 100, 'extremely': 1, 'FROM': 1, 'performances': 1, 'clear': 2, 'sometimes': 4, 'WATCH': 1, 'charitable': 1, 'clean': 1, 'DISTRIBUTOR': 1, 'daresay': 1, 'lying': 8, 'particularly': 1, 'fond': 3, 'scattered': 1, 'Has': 1, 'fine': 2, 'find': 20, 'Poor': 1, 'LICENSE': 2, 'copyright': 12, 'grazed': 1, 'justice': 1, 'nervous': 4, 'sharing': 2, 'distributed': 3, 'unwillingly': 1, 'French': 3, 'Caterpillar': 11, 'pretty': 1, 'money': 3, 'Pool': 1, 'shepherd': 1, 'his': 93, 'hit': 2, 'meanwhile': 1, 'trees': 5, 'fancying': 1, 'whistle': 1, 'While': 6, 'courage': 1, 'hid': 1, 'exempt': 2, 'pretending': 1, 'shared': 2, 'Hearts': 1, 'him': 21, 'chimney': 2, 'Suddenly': 1, 'cry': 3, 'remove': 1, 'gloves': 5, 'common': 1, 'cease': 1, 'engraved': 1, 'nibbled': 2, 'wrote': 3, 'set': 23, 'For': 12, 'throwing': 2, 'tree': 3, 'see': 48, 'hoarsely': 1, 'are': 54, 'sea': 2, 'close': 12, 'bark': 2, 'arm': 7, 'feared': 1, 'learnt': 2, 'library': 1, 'pictures': 4, 'user': 2, 'FATHER': 2, 'See': 3, 'smallest': 2, 'various': 2, 'donate': 1, 'numerous': 1, 'Professor': 1, 'kneel': 1, 'knowing': 2, 'King': 27, 'creating': 3, 'web': 3, 'timidly': 2, 'vanishing': 1, 'DONATIONS': 1, 'AND': 4, 'both': 16, 'last': 25, 'riddles': 1, 'WORK': 1, 'Hare': 16, 'became': 2, 'forgotten': 6, 'Hart': 1, 'whole': 13, 'finds': 1, 'tittered': 1, 'WARRANTY': 1, 'sentenced': 1, 'cakes': 1, 'drunk': 2, 'simple': 5, 'others': 4, 'manners': 1, 'whatever': 1, 'hollow': 1, 'alone': 3, 'unfolded': 2, 'simply': 2, 'supple': 1, 'Was': 1, 'patiently': 1, 'Updated': 1, 'described': 1, 'acceptance': 1, 'whom': 2, 'dropping': 1, 'collected': 2, 'meeting': 1, 'woke': 1, 'resting': 2, 'lived': 3, 'HER': 2, 'Despite': 1, 'remark': 3, 'else': 8, 'prominently': 2, 'understand': 5, 'demand': 1, 'mournful': 1, 'furrow': 1, 'fur': 2, 'look': 25, 'solid': 1, 'Dinn': 1, 'straight': 2, 'forgetting': 3, 'while': 15, 'pressed': 3, 'leaning': 2, 'fun': 1, 'pack': 4, 'swim': 1, 'hoping': 3, 'MUST': 3, 'violently': 2, 'itself': 8, 'beautifully': 2, 'ready': 7, 'Eaglet': 1, 'EIN': 1, 'funny': 3, 'LITTLE': 2, 'righthand': 1, 'choking': 1, 'grant': 1, 'belong': 1, 'rules': 4, 'copying': 2, 'grand': 2, 'advise': 1, 'About': 1, 'used': 15, 'snail': 1, 'discontinue': 1, 'yesterday': 2, 'Gryphon': 22, 'patriotic': 1, 'moment': 21, 'flown': 1, 'moving': 3, 'Quadrille': 2, 'YOU': 13, 'timid': 3, 'dark': 3, 'expend': 1, 'older': 2, 'anxious': 2, 'person': 6, 'edge': 3, 'regulating': 1, 'grins': 1, 'clasped': 1, 'lobsters': 3, 'morsel': 1, 'rumbling': 1, 'HAVE': 5, 'using': 6, 'cut': 5, 'also': 3, 'treacle': 2, 'alternate': 1, 'eager': 3, 'grin': 1, 'crying': 2, 'remaining': 2, 'surprised': 6, 'On': 4, 'Last': 2, 'They': 10, 'Oh': 5, 'Visit': 1, 'showing': 2, 'matters': 2, 'game': 6, 'entangled': 2, 'bit': 8, 'BEFORE': 1, 'imposed': 1, 'shaped': 2, 'OF': 13, 'chorus': 2, 'eel': 1, 'DOES': 1, 'provoking': 1, 'OURS': 1, 'foolish': 1, 'walrus': 1, 'OR': 6, 'KNOW': 1, 'Little': 1, 'often': 4, 'Pray': 1, 'obliged': 3, 'duck': 1, 'some': 47, 'remarking': 2, 'understood': 1, 'towards': 1, 'hurriedly': 2, 'sight': 2, 'candle': 2, 'capering': 1, 'newsletter': 1, 'pale': 2, 'Email': 1, 'saucer': 1, 'savage': 3, 'nonproprietary': 1, 'shall': 23, 'Gutenberg': 19, 'donations': 11, 'scaly': 1, 'be': 154, 'run': 3, 'remembered': 5, 'Bill': 2, 'agreement': 8, 'O': 1, 'refused': 1, 'nowhere': 2, 'by': 72, 'Turtle': 33, 'Domain': 1, 'bristling': 1, 'anything': 15, 'wore': 1, 'prove': 1, 'straightened': 1, 'MILE': 1, 'silence': 3, 'undoing': 1, 'letter': 1, 'into': 67, 'within': 5, 'nonsense': 1, 'jurymen': 2, 'Everything': 1, 'piteous': 1, 'lesson': 1, 'signifies': 1, 'sad': 2, 'question': 7, 'long': 30, 'consultation': 1, 'suit': 3, 'Come': 4, 'GAVE': 2, 'files': 2, 'royalties': 1, 'himself': 4, 'inches': 6, 'registered': 2, 'applicable': 3, 'alive': 1, 'atom': 2, 'upright': 1, 'line': 1, 'dull': 2, 'raising': 1, 'peeped': 3, 'directed': 2, 'Soon': 1, 'us': 10, 'accustomed': 1, 'TOOK': 1, 'called': 15, 'yelled': 1, 'ordered': 2, 'pencil': 1, 'To': 4, 'skimming': 1, 'Digging': 1, 'International': 1, 'graceful': 1, 'STRICT': 1, 'denying': 1, 'codes': 1, 'puzzling': 4, 'May': 1, 'backs': 1, 'occasional': 1, 'afford': 1, 'Mad': 1, 'nice': 5, 'brushing': 1, 'draw': 4, 'energetic': 1, 'gross': 1, 'favourite': 1, 'faintly': 1, 'occurred': 2, 'meaning': 7, 'AT': 1, 'smiled': 2, 'fishes': 1, 'song': 1, 'sides': 4, 'ago': 1, 'land': 1, 'practically': 1, 'age': 2, 'required': 1, 'walked': 10, 'An': 4, 'impatient': 1, 'As': 12, 'neighbouring': 1, 'At': 8, 'far': 9, 'Donations': 2, 'sounded': 5, 'once': 18, 'rabbit': 1, 'splashing': 2, 'produce': 1, 'go': 38, 'contributions': 1, 'cupboards': 2, 'seemed': 27, 'peering': 1, 'young': 5, 'send': 1, 'nose': 1, 'pleasing': 1, 'sent': 3, 'memorandum': 1, 'garden': 4, 'flinging': 1, 'outside': 3, 'ALL': 2, 'spoon': 1, 'putting': 3, 'rattling': 2, 'telling': 2, 'Classics': 1, 'continued': 7, 'severely': 3, 'redistribute': 1, 'magic': 1, 'respectful': 1, 'shock': 1, 'try': 12, 'tunnel': 1, 'race': 2, 'insolence': 1, 'disclaimer': 2, 'concluded': 2, 'TO': 5, 'uncomfortably': 1, 'sensation': 1, 'boots': 2, 'licensed': 1, 'picked': 3, 'odd': 1, 'WHAT': 2, 'croqueting': 1, 'giving': 2, 'squeeze': 1, 'access': 10, 'paying': 2, 'waiting': 7, 'experiment': 1, 'capital': 4, 'bird': 1, 'poky': 1, 'body': 2, 'sharks': 1, 'melancholy': 6, 'led': 4, 'chose': 1, 'upsetting': 1, 'got': 45, 'beasts': 1, 'commercial': 1, 'believed': 1, 'busy': 1, 'let': 7, 'sink': 1, 'making': 8, 'slates': 1, 'sing': 3, 'invented': 1, 'fifteen': 1, 'settling': 1, 'vinegar': 1, 'great': 39, 'receive': 3, 'larger': 3, 'leaving': 1, 'climb': 1, 'makes': 12, 'examining': 1, 'named': 1, 'claim': 1, 'complying': 3, 'manage': 6, 'Pigeon': 5, 'addressed': 2, 'names': 1, 'lodging': 1, 'apply': 1, 'nibbling': 3, 'singing': 2, 'Trims': 1, 'Mock': 56, 'standing': 1, 'use': 24, 'fee': 8, 'from': 45, 'Presently': 2, 'archbishop': 2, 'WARRANTIES': 2, 'readable': 2, 'frog': 1, 'next': 20, 'few': 10, 'doubt': 1, 'doubling': 1, 'sort': 17, 'throne': 1, 'clever': 1, 'started': 2, 'inclined': 1, 'about': 91, 'carrying': 2, 'labelled': 1, 'ashamed': 2, 'baby': 6, 'account': 1, 'balls': 1, 'animals': 3, 'panted': 1, 'locks': 1, 'this': 122, 'QUEEN': 1, 'shrieked': 1, 'pour': 1, 'arches': 3, 'anywhere': 3, 'crossed': 3, 'UT': 1, 'meet': 3, 'fetch': 5, 'something': 14, 'proprietary': 1, 'bent': 1, 'links': 3, 'plate': 2, 'ferrets': 1, 'tax': 6, 'dripping': 1, 'pieces': 2, 'high': 3, 'pulling': 1, 'bend': 1, 'bones': 1, 'paws': 2, 'trumpet': 1, 'pretexts': 1, 'educational': 1, 'curving': 1, 'defective': 2, 'sit': 5, 'six': 2, 'evidently': 1, 'delay': 1, 'located': 4, 'animal': 1, 'instead': 2, 'HIM': 2, 'stop': 3, 'waters': 1, 'tied': 1, 'PROJECT': 4, 'Lizard': 2, 'HIS': 1, 'Allow': 1, 'minding': 1, 'requirements': 2, 'frowning': 3, 'intellectual': 2, 'interrupted': 5, 'trembling': 6, 'chief': 1, 'allow': 2, 'crawling': 1, 'furious': 1, 'Kings': 1, 'volunteers': 5, 'REFUND': 1, 'flapper': 1, 'bathing': 1, 'closely': 1, 'move': 2, 'Story': 1, 'doubtful': 2, 'produced': 2, 'including': 7, 'mentioned': 3, 'WITH': 1, 'exclusion': 1, 'Director': 1, 'permanent': 1, 'choose': 1, 'Sing': 1, 'Alice': 221, 'originator': 1, 'crash': 1, 'practice': 1, 'muddle': 1, 'flew': 1, 'Cat': 8, 'kiss': 1, 'hands': 6, 'front': 2, 'day': 11, 'toes': 1, 'sneezed': 1, 'THIS': 8, 'delightful': 2, 'accounts': 1, 'shaking': 3, 'CHAPTER': 12, 'doing': 3, 'globe': 1, 'Next': 2, 'sands': 1, 'SEND': 1, 'Which': 3, 'measure': 1, 'our': 11, 'Fainting': 1, 'wander': 1, 'witness': 4, 'out': 97, 'sobs': 2, 'Very': 1, 'States': 4, 'hatters': 1, 'include': 1, 'Nearly': 1, 'Always': 1, 'cause': 3, 'oblong': 1, 'shut': 4, 'This': 20, 'undo': 1, 'attending': 2, 'collection': 3, 'prepare': 1, 'gallons': 1, 'could': 63, 'Though': 1, 'rustling': 1, 'times': 6, 'conversation': 4, 'length': 1, 'pigs': 1, 'trickling': 1, 'sorrowful': 2, 'clamour': 1, 'plainly': 1, 'blown': 1, 'pitied': 1, 'soothing': 1, 'howled': 1, 'representations': 1, 'owner': 3, 'blows': 1, 'noticed': 7, 'ancient': 1, 'sadly': 2, 'EDITION': 1, 'ordering': 2, 'vulgar': 1, 'their': 50, 'perfectly': 4, 'handsome': 1, 'explanation': 1, 'exactly': 5, 'branches': 1, 'herself': 40, 'neck': 6, 'bother': 1, 'yawned': 2, 'beg': 7, 'submitted': 1, 'whenever': 1, 'listeners': 1, 'individual': 4, 'Duck': 1, 'providing': 4, 'ITS': 1, 'result': 1, 'Information': 4, 'thistle': 1, 'tidy': 1, 'gently': 3, 'tide': 1, 'Redistributing': 1, 'comfortably': 1, 'have': 77, 'SUCH': 1, 'One': 1, 'linked': 2, 'afraid': 9, 'dishes': 1, 'bough': 1, 'After': 5, 'which': 44, 'blades': 1, 'unless': 4, 'centre': 1, 'who': 51, 'THEIR': 1, 'prisoner': 1, 'Gregory': 1, 'alarmed': 1, 'THINK': 1, 'deny': 2, 'RIGHT': 2, 'FULCRUM': 1, 'Some': 3, 'face': 7, 'looked': 45, 'absurd': 1, 'painting': 2, 'fact': 2, 'Everybody': 1, 'Paris': 1, 'please': 9, 'agreed': 1, 'unsolicited': 1, 'bring': 2, 'planning': 1, 'BUT': 1, 'soldiers': 8, 'fear': 4, 'pleased': 5, 'BEST': 2, 'chanced': 1, 'nearer': 4, 'ear': 2, 'based': 2, 'knowledge': 1, 'jar': 2, 'should': 29, 'employee': 1, 'fumbled': 1, 'roughly': 1, 'hope': 4, 'indignant': 1, 'meant': 4, 'prosecute': 1, 'means': 5, 'beat': 4, 'convert': 1, 'COULD': 3, 'muttering': 3, 'prohibition': 1, 'ones': 1, 'words': 14, 'THE': 13, 'interpreted': 1, 'Once': 1, 'following': 3, 'Because': 1, 'calling': 1, 'stuff': 1, 'INCLUDING': 1, 'she': 484, 'contain': 2, 'rapped': 1, 'fixed': 1, 'MERCHANTIBILITY': 1, 'generations': 1, 'available': 1, 'shedding': 1, 'official': 3, 'exists': 1, 'tossing': 3, 'lazy': 1, 'LEAVE': 1, 'computer': 2, 'desperate': 1, 'forepaws': 1, 'cold': 1, 'closer': 1, 'pattern': 1, 'Hatter': 24, 'state': 6, 'beautify': 1, 'identification': 1, 'PG': 1, 'closed': 2, 'neither': 2, 'email': 2, 'opening': 3, 'hurrying': 1, 'Dinah': 4, 'key': 5, 'group': 1, 'DOTH': 1, 'staring': 3, 'restrictions': 2, 'sharply': 1, 'freely': 4, 'taking': 5, 'swallow': 1, 'otherwise': 2, 'Would': 3, 'walk': 4, 'subscribe': 1, 'THEY': 1, 'table': 7, 'addition': 1, 'thanked': 1, 'copies': 7, 'immense': 1, 'poured': 1, 'slowly': 6, 'frighten': 1, 'curtain': 1, 'feather': 1, 'waste': 1, 'shoulders': 2, 'PROVIDED': 1, 'am': 13, 'Lake': 1, 'neighbour': 1, 'finished': 7, 'ensuring': 1, 'derivative': 3, 'smoking': 2, 'PRECIOUS': 1, 'an': 56, 'present': 1, 'volunteer': 1, 'And': 49, 'license': 1, 'appearance': 1, 'Number': 1, 'General': 3, 'will': 29, 'riper': 1, 'owns': 2, 'wild': 2, 'advisable': 1, 'instantly': 3, 'Any': 1, 'MORE': 2, 'almost': 8, 'unhappy': 1, 'helped': 1, 'You': 18, 'sits': 1, 'tumbled': 1, 'kissed': 1, 'perhaps': 12, 'began': 47, 'brightened': 2, 'strange': 4, 'tumbling': 2, 'digging': 2, 'largest': 1, 'party': 8, 'glaring': 1, 'difficult': 2, 'elbows': 1, 'spell': 1, 'drink': 4, 'disagree': 1, 'effect': 1, 'introduce': 2, 'off': 38, 'nevertheless': 1, 'variety': 1, 'well': 27, 'fighting': 1, 'Yet': 3, 'thought': 63, 'ARE': 5, 'position': 2, 'raving': 2, 'drawing': 1, 'usual': 1, 'lest': 1, 'BE': 2, 'taller': 1, 'barking': 1, 'cried': 18, 'less': 3, 'liked': 3, 'cries': 1, 'distant': 2, 'parchment': 2, 'Be': 1, 'tight': 1, 'sky': 1, 'book': 3, 'adoption': 1, 'maintaining': 1, 'wet': 1, 'marched': 1, 'ought': 13, 'By': 4, 'kick': 2, 'raven': 1, 'ledge': 1, 'whispers': 1, 'royalty': 1, 'five': 1, 'know': 45, 'Release': 1, 'immediately': 3, 'Redistribution': 1, 'LIMITED': 3, 'flamingo': 2, 'England': 1, 'like': 74, 'lost': 1, 'sizes': 1, 'crawled': 1, 'payments': 3, 'lose': 1, 'become': 5, 'works': 22, 'soft': 1, 'page': 2, 'THOSE': 1, 'replacement': 3, 'accessible': 1, 'because': 12, 'Section': 7, 'authority': 2, 'hair': 5, 'choosing': 1, 'proper': 3, 'home': 1, 'happens': 2, 'KING': 1, 'est': 1, 'avoid': 1, 'kettle': 1, 'disk': 1, 'leap': 1, 'does': 4, 'SOMETHING': 1, 'saucepan': 1, 'belt': 1, 'warranties': 1, 'pepper': 5, 'noise': 3, 'inaccurate': 1, 'reaching': 2, 'Cheshire': 6, 'choked': 3, 'gained': 1, 'sister': 5, 'carried': 4, 'getting': 21, 'gazing': 1, 'tongue': 1, 'introduced': 1, 'swimming': 2, 'own': 9, 'Two': 1, 'screamed': 4, 'guard': 1, 'Internal': 1, 'been': 36, 'additions': 1, 'quickly': 2, 'charities': 1, 'follows': 2, 'ridge': 1, 'additional': 3, 'rushed': 1, 'QUITE': 2, 'spread': 4, 'much': 41, 'powdered': 1, 'receipt': 2, 'but': 105, 'repeated': 8, 'goals': 1, 'highest': 1, 'eat': 16, 'he': 96, 'made': 29, 'wise': 2, 'whether': 11, 'wish': 22, 'scroll': 1, 'signed': 2, 'Dormouse': 23, 'placed': 1, 'below': 1, 'distribution': 6, 'piece': 5, 'minutes': 7, 'stirring': 2, 'diligently': 1, 'rightly': 1, 'whisper': 1, 'pie': 1, 'twist': 2, 'trotting': 2, 'happen': 5, 'gay': 1, 'Shall': 1, 'corporation': 1, 'Never': 1, 'other': 39, 'Five': 1, 'branch': 1, 'Pinch': 1, 'conclusion': 1, 'repeat': 6, 'Like': 1, 'stay': 4, 'chance': 4, 'teacups': 2, 'throughout': 1, 'friends': 2, 'grunted': 3, 'yelp': 1, 'EBOOK': 2, 'tinkling': 1, 'lasted': 1, 'rule': 2, 'pictured': 1, 'lives': 1, 'baked': 1, 'indirectly': 1}\n"
     ]
    }
   ],
   "source": [
    "import string\n",
    "\n",
    "aliceFile = open(\"alice.txt\")\n",
    "\n",
    "wordCounts = {}\n",
    "\n",
    "for line in aliceFile:\n",
    "    words = line.strip().split()\n",
    "\n",
    "    for word in words:\n",
    "        \n",
    "        invalid_letter = False\n",
    "        for letter in word:\n",
    "            \n",
    "            if letter not in string.letters:\n",
    "                invalid_letter = True\n",
    "                break\n",
    "                \n",
    "        if invalid_letter == True:\n",
    "            continue\n",
    "        \n",
    "                \n",
    "        if wordCounts.get(word) == None:\n",
    "            wordCounts[word] = 1\n",
    "        else:\n",
    "            wordCounts[word] += 1\n",
    "            \n",
    "print wordCounts"
   ]
  },
  {
   "cell_type": "code",
   "execution_count": 70,
   "metadata": {
    "collapsed": false
   },
   "outputs": [
    {
     "data": {
      "text/plain": [
       "662"
      ]
     },
     "execution_count": 70,
     "metadata": {},
     "output_type": "execute_result"
    }
   ],
   "source": [
    "wordCounts['a']"
   ]
  },
  {
   "cell_type": "markdown",
   "metadata": {},
   "source": [
    "### Recursion"
   ]
  },
  {
   "cell_type": "code",
   "execution_count": 73,
   "metadata": {
    "collapsed": true
   },
   "outputs": [],
   "source": [
    "def product(x,y):\n",
    "    print x,y\n",
    "    if y == 1:\n",
    "        return x\n",
    "    else:\n",
    "        return x + product(x,y-1)"
   ]
  },
  {
   "cell_type": "code",
   "execution_count": 74,
   "metadata": {
    "collapsed": false
   },
   "outputs": [
    {
     "name": "stdout",
     "output_type": "stream",
     "text": [
      "3 4\n",
      "3 3\n",
      "3 2\n",
      "3 1\n",
      "12\n"
     ]
    }
   ],
   "source": [
    "print product(3,4)"
   ]
  },
  {
   "cell_type": "code",
   "execution_count": 75,
   "metadata": {
    "collapsed": true
   },
   "outputs": [],
   "source": [
    "def factorial(x):\n",
    "\n",
    "    if x == 1:\n",
    "        return 1\n",
    "    else:\n",
    "        return x * factorial(x-1)"
   ]
  },
  {
   "cell_type": "code",
   "execution_count": 76,
   "metadata": {
    "collapsed": false
   },
   "outputs": [
    {
     "data": {
      "text/plain": [
       "120"
      ]
     },
     "execution_count": 76,
     "metadata": {},
     "output_type": "execute_result"
    }
   ],
   "source": [
    "factorial(5)"
   ]
  },
  {
   "cell_type": "code",
   "execution_count": null,
   "metadata": {
    "collapsed": true
   },
   "outputs": [],
   "source": []
  }
 ],
 "metadata": {
  "kernelspec": {
   "display_name": "Python 2",
   "language": "python",
   "name": "python2"
  },
  "language_info": {
   "codemirror_mode": {
    "name": "ipython",
    "version": 2
   },
   "file_extension": ".py",
   "mimetype": "text/x-python",
   "name": "python",
   "nbconvert_exporter": "python",
   "pygments_lexer": "ipython2",
   "version": "2.7.12"
  }
 },
 "nbformat": 4,
 "nbformat_minor": 2
}
