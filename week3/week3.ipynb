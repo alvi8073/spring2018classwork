{
 "cells": [
  {
   "cell_type": "code",
   "execution_count": 2,
   "metadata": {
    "collapsed": false
   },
   "outputs": [
    {
     "name": "stdout",
     "output_type": "stream",
     "text": [
      "the number of students in class CIS-24C is 20\n"
     ]
    }
   ],
   "source": [
    "count = 20\n",
    "classname = \"CIS-24C\"\n",
    "\n",
    "print \"the number of students in class \" + classname + \" is \" + str(count)"
   ]
  },
  {
   "cell_type": "code",
   "execution_count": 4,
   "metadata": {
    "collapsed": false
   },
   "outputs": [
    {
     "name": "stdout",
     "output_type": "stream",
     "text": [
      "the number of students in class CIS-24C is 20\n"
     ]
    }
   ],
   "source": [
    "print(\"the number of students in class %s is %s\" % (classname,count))"
   ]
  },
  {
   "cell_type": "code",
   "execution_count": 5,
   "metadata": {
    "collapsed": true
   },
   "outputs": [],
   "source": [
    "name = \"Harry Potter\""
   ]
  },
  {
   "cell_type": "code",
   "execution_count": 6,
   "metadata": {
    "collapsed": false
   },
   "outputs": [
    {
     "name": "stdout",
     "output_type": "stream",
     "text": [
      "Harry Potter\n"
     ]
    }
   ],
   "source": [
    "print name"
   ]
  },
  {
   "cell_type": "code",
   "execution_count": 7,
   "metadata": {
    "collapsed": false
   },
   "outputs": [
    {
     "name": "stdout",
     "output_type": "stream",
     "text": [
      "H\n"
     ]
    }
   ],
   "source": [
    "print name[0]"
   ]
  },
  {
   "cell_type": "code",
   "execution_count": 8,
   "metadata": {
    "collapsed": false
   },
   "outputs": [
    {
     "name": "stdout",
     "output_type": "stream",
     "text": [
      "a\n"
     ]
    }
   ],
   "source": [
    "print name[1]"
   ]
  },
  {
   "cell_type": "code",
   "execution_count": 9,
   "metadata": {
    "collapsed": false
   },
   "outputs": [
    {
     "name": "stdout",
     "output_type": "stream",
     "text": [
      " \n"
     ]
    }
   ],
   "source": [
    "print name[5]"
   ]
  },
  {
   "cell_type": "code",
   "execution_count": 10,
   "metadata": {
    "collapsed": false
   },
   "outputs": [
    {
     "name": "stdout",
     "output_type": "stream",
     "text": [
      "12\n"
     ]
    }
   ],
   "source": [
    "print len(name)"
   ]
  },
  {
   "cell_type": "code",
   "execution_count": 12,
   "metadata": {
    "collapsed": false
   },
   "outputs": [
    {
     "name": "stdout",
     "output_type": "stream",
     "text": [
      "H\n",
      "a\n",
      "r\n",
      "r\n",
      "y\n",
      " \n",
      "P\n",
      "o\n",
      "t\n",
      "t\n",
      "e\n",
      "r\n"
     ]
    }
   ],
   "source": [
    "for i in range(len(name)):\n",
    "    print name[i]"
   ]
  },
  {
   "cell_type": "code",
   "execution_count": 15,
   "metadata": {
    "collapsed": false
   },
   "outputs": [
    {
     "name": "stdout",
     "output_type": "stream",
     "text": [
      "t\n"
     ]
    }
   ],
   "source": [
    "print name[-3]"
   ]
  },
  {
   "cell_type": "code",
   "execution_count": 33,
   "metadata": {
    "collapsed": false
   },
   "outputs": [
    {
     "name": "stdout",
     "output_type": "stream",
     "text": [
      "rettoP\n"
     ]
    }
   ],
   "source": [
    "print name[:5:-1]"
   ]
  },
  {
   "cell_type": "code",
   "execution_count": 34,
   "metadata": {
    "collapsed": false
   },
   "outputs": [
    {
     "ename": "IndexError",
     "evalue": "string index out of range",
     "output_type": "error",
     "traceback": [
      "\u001b[0;31m---------------------------------------------------------------------------\u001b[0m",
      "\u001b[0;31mIndexError\u001b[0m                                Traceback (most recent call last)",
      "\u001b[0;32m<ipython-input-34-de24e8fe034d>\u001b[0m in \u001b[0;36m<module>\u001b[0;34m()\u001b[0m\n\u001b[0;32m----> 1\u001b[0;31m \u001b[0;32mprint\u001b[0m \u001b[0mname\u001b[0m\u001b[0;34m[\u001b[0m\u001b[0;36m12\u001b[0m\u001b[0;34m]\u001b[0m\u001b[0;34m\u001b[0m\u001b[0m\n\u001b[0m",
      "\u001b[0;31mIndexError\u001b[0m: string index out of range"
     ]
    }
   ],
   "source": [
    "print name[12]"
   ]
  },
  {
   "cell_type": "code",
   "execution_count": 39,
   "metadata": {
    "collapsed": false
   },
   "outputs": [
    {
     "name": "stdout",
     "output_type": "stream",
     "text": [
      "20\n",
      "22\n",
      "24\n",
      "26\n",
      "28\n",
      "30\n",
      "32\n",
      "34\n",
      "36\n",
      "38\n",
      "40\n",
      "42\n",
      "44\n",
      "46\n",
      "48\n",
      "50\n",
      "52\n",
      "54\n",
      "56\n",
      "58\n",
      "60\n",
      "62\n",
      "64\n",
      "66\n",
      "68\n",
      "70\n",
      "72\n",
      "74\n",
      "76\n",
      "78\n",
      "80\n",
      "82\n",
      "84\n",
      "86\n",
      "88\n",
      "90\n",
      "92\n",
      "94\n",
      "96\n",
      "98\n"
     ]
    }
   ],
   "source": [
    "for i in range(20,100,2):\n",
    "    print i"
   ]
  },
  {
   "cell_type": "code",
   "execution_count": 40,
   "metadata": {
    "collapsed": true
   },
   "outputs": [],
   "source": [
    "import string"
   ]
  },
  {
   "cell_type": "code",
   "execution_count": 41,
   "metadata": {
    "collapsed": false
   },
   "outputs": [
    {
     "name": "stdout",
     "output_type": "stream",
     "text": [
      "abcdefghijklmnopqrstuvwxyzABCDEFGHIJKLMNOPQRSTUVWXYZ\n"
     ]
    }
   ],
   "source": [
    "print string.ascii_letters"
   ]
  },
  {
   "cell_type": "code",
   "execution_count": 42,
   "metadata": {
    "collapsed": false
   },
   "outputs": [
    {
     "name": "stdout",
     "output_type": "stream",
     "text": [
      "abcdefghijklmnopqrstuvwxyz\n"
     ]
    }
   ],
   "source": [
    "print string.ascii_lowercase"
   ]
  },
  {
   "cell_type": "code",
   "execution_count": 44,
   "metadata": {
    "collapsed": false
   },
   "outputs": [
    {
     "data": {
      "text/plain": [
       "-1"
      ]
     },
     "execution_count": 44,
     "metadata": {},
     "output_type": "execute_result"
    }
   ],
   "source": [
    "mystring = \"Jack and Jill went up the hill\"\n",
    "\n",
    "string.find(mystring,\"jill\")"
   ]
  },
  {
   "cell_type": "code",
   "execution_count": 45,
   "metadata": {
    "collapsed": false
   },
   "outputs": [
    {
     "data": {
      "text/plain": [
       "'jack and jill went up the hill'"
      ]
     },
     "execution_count": 45,
     "metadata": {},
     "output_type": "execute_result"
    }
   ],
   "source": [
    "string.lower(mystring)"
   ]
  },
  {
   "cell_type": "code",
   "execution_count": 102,
   "metadata": {
    "collapsed": true
   },
   "outputs": [],
   "source": [
    "myfile = open(\"/Users/sdorai000/Downloads/alicetext.txt\")"
   ]
  },
  {
   "cell_type": "code",
   "execution_count": 103,
   "metadata": {
    "collapsed": true
   },
   "outputs": [],
   "source": [
    "text = myfile.read()"
   ]
  },
  {
   "cell_type": "code",
   "execution_count": 104,
   "metadata": {
    "collapsed": false
   },
   "outputs": [
    {
     "name": "stdout",
     "output_type": "stream",
     "text": [
      "<type 'str'>\n"
     ]
    }
   ],
   "source": [
    "print type(text)"
   ]
  },
  {
   "cell_type": "code",
   "execution_count": 105,
   "metadata": {
    "collapsed": false
   },
   "outputs": [
    {
     "name": "stdout",
     "output_type": "stream",
     "text": [
      "Project Gutenberg's Alice's Adventures in Wonderland, by Lewis Carroll\r\n",
      "\r\n",
      "This eBook is for the use of anyone anywhere at no cost and with\r\n",
      "almost no restrictions whatsoever.  You may copy it, give it away or\r\n",
      "re-use it under the terms of the Project Gutenberg License included\r\n",
      "with this eBook or online at www.gutenberg.org\r\n",
      "\r\n",
      "\r\n",
      "Title: Alice's Adventures in Wonderland\r\n",
      "\r\n",
      "Author: Lewis Carroll\r\n",
      "\r\n",
      "Posting Date: June 25, 2008 [EBook #11]\r\n",
      "Release Date: March, 1994\r\n",
      "[Last updated: December 20, 2011]\r\n",
      "\r\n",
      "Language: English\r\n",
      "\r\n",
      "Character set encoding: ASCII\r\n",
      "\r\n",
      "*** START OF THIS PROJECT GUTENBERG EBOOK ALICE'S ADVENTURES IN WONDERLAND ***\r\n",
      "\r\n",
      "\r\n",
      "\r\n",
      "\r\n",
      "\r\n",
      "\r\n",
      "\r\n",
      "\r\n",
      "\r\n",
      "\r\n",
      "ALICE'S ADVENTURES IN WONDERLAND\r\n",
      "\r\n",
      "Lewis Carroll\r\n",
      "\r\n",
      "THE MILLENNIUM FULCRUM EDITION 3.0\r\n",
      "\r\n",
      "\r\n",
      "\r\n",
      "\r\n",
      "CHAPTER I. Down the Rabbit-Hole\r\n",
      "\r\n",
      "Alice was beginning to get very tired of sitting by her sister on the\r\n",
      "bank, and of having nothing to do: once or twice she had peeped into the\r\n",
      "book her sister was reading, but it had no pictures or conversati\n"
     ]
    }
   ],
   "source": [
    "print text[0:1000]"
   ]
  },
  {
   "cell_type": "code",
   "execution_count": 51,
   "metadata": {
    "collapsed": false
   },
   "outputs": [
    {
     "name": "stdout",
     "output_type": "stream",
     "text": [
      "167546\n"
     ]
    }
   ],
   "source": [
    "print len(text)"
   ]
  },
  {
   "cell_type": "code",
   "execution_count": 53,
   "metadata": {
    "collapsed": false
   },
   "outputs": [
    {
     "data": {
      "text/plain": [
       "20"
      ]
     },
     "execution_count": 53,
     "metadata": {},
     "output_type": "execute_result"
    }
   ],
   "source": [
    "string.find(text,\"Alice\")"
   ]
  },
  {
   "cell_type": "code",
   "execution_count": 55,
   "metadata": {
    "collapsed": false
   },
   "outputs": [
    {
     "name": "stdout",
     "output_type": "stream",
     "text": [
      "Alice\n"
     ]
    }
   ],
   "source": [
    "print text[20:20+len(\"Alice\")]"
   ]
  },
  {
   "cell_type": "code",
   "execution_count": 56,
   "metadata": {
    "collapsed": true
   },
   "outputs": [],
   "source": [
    "text_length = len(text)"
   ]
  },
  {
   "cell_type": "code",
   "execution_count": 57,
   "metadata": {
    "collapsed": false
   },
   "outputs": [
    {
     "name": "stdout",
     "output_type": "stream",
     "text": [
      "elp produce our new eBooks, and how to\r\n",
      "subscribe to our email newsletter to hear about new eBooks.\r\n",
      "\n"
     ]
    }
   ],
   "source": [
    "print text[text_length-101:]"
   ]
  },
  {
   "cell_type": "code",
   "execution_count": 106,
   "metadata": {
    "collapsed": true
   },
   "outputs": [],
   "source": [
    "words = text.split(\" \")"
   ]
  },
  {
   "cell_type": "code",
   "execution_count": 66,
   "metadata": {
    "collapsed": false
   },
   "outputs": [
    {
     "name": "stdout",
     "output_type": "stream",
     "text": [
      "27\n"
     ]
    }
   ],
   "source": [
    "count = 0\n",
    "\n",
    "for word in words:\n",
    "    \n",
    "    if word.lower() == \"rabbit\":\n",
    "        count = count + 1\n",
    "        \n",
    "print count"
   ]
  },
  {
   "cell_type": "code",
   "execution_count": 67,
   "metadata": {
    "collapsed": false
   },
   "outputs": [
    {
     "name": "stdout",
     "output_type": "stream",
     "text": [
      "27\n"
     ]
    }
   ],
   "source": [
    "count = 0\n",
    "\n",
    "for word in words:\n",
    "    \n",
    "    if word.lower()[0:7] == \"rabbit\":\n",
    "        count = count + 1\n",
    "        \n",
    "print count"
   ]
  },
  {
   "cell_type": "code",
   "execution_count": 71,
   "metadata": {
    "collapsed": false
   },
   "outputs": [
    {
     "data": {
      "text/plain": [
       "'S'"
      ]
     },
     "execution_count": 71,
     "metadata": {},
     "output_type": "execute_result"
    }
   ],
   "source": [
    "words[200].upper()[0]"
   ]
  },
  {
   "cell_type": "code",
   "execution_count": 74,
   "metadata": {
    "collapsed": false
   },
   "outputs": [
    {
     "name": "stdout",
     "output_type": "stream",
     "text": [
      "['jack', 'and', 'jill', 'went', 'up', 'the', 'hill', 'and', 'went', 'up', 'the', 'hill', 'again']\n"
     ]
    }
   ],
   "source": [
    "text = \"jack and jill went up the hill and went up the hill again\"\n",
    "\n",
    "words = text.split()\n",
    "\n",
    "print words"
   ]
  },
  {
   "cell_type": "code",
   "execution_count": 108,
   "metadata": {
    "collapsed": false
   },
   "outputs": [],
   "source": [
    "unique_words = []\n",
    "unique_words_count = []\n",
    "\n",
    "for word in words:\n",
    "    \n",
    "    if word in unique_words:\n",
    "        \n",
    "        index = unique_words.index(word)\n",
    "        unique_words_count[index] += 1\n",
    "        \n",
    "    else:\n",
    "        \n",
    "        unique_words.append(word)\n",
    "        unique_words_count.append(1)\n",
    "        \n",
    "#print unique_words\n",
    "#print unique_words_count\n"
   ]
  },
  {
   "cell_type": "code",
   "execution_count": 109,
   "metadata": {
    "collapsed": false
   },
   "outputs": [
    {
     "name": "stdout",
     "output_type": "stream",
     "text": [
      "1476\n"
     ]
    }
   ],
   "source": [
    "print max(unique_words_count)"
   ]
  },
  {
   "cell_type": "code",
   "execution_count": 112,
   "metadata": {
    "collapsed": false
   },
   "outputs": [
    {
     "name": "stdout",
     "output_type": "stream",
     "text": [
      "12\n"
     ]
    }
   ],
   "source": [
    "print unique_words_count.index(max(unique_words_count))"
   ]
  },
  {
   "cell_type": "code",
   "execution_count": 113,
   "metadata": {
    "collapsed": false
   },
   "outputs": [
    {
     "name": "stdout",
     "output_type": "stream",
     "text": [
      "the\n"
     ]
    }
   ],
   "source": [
    "print unique_words[unique_words_count.index(max(unique_words_count))]"
   ]
  },
  {
   "cell_type": "code",
   "execution_count": 101,
   "metadata": {
    "collapsed": false
   },
   "outputs": [
    {
     "name": "stdout",
     "output_type": "stream",
     "text": [
      "['P', 'r', 'o', 'j', 'e', 'c', 't', ' ', 'G', 'u']\n"
     ]
    }
   ],
   "source": [
    "print unique_words[0:10]"
   ]
  },
  {
   "cell_type": "code",
   "execution_count": 107,
   "metadata": {
    "collapsed": false
   },
   "outputs": [
    {
     "name": "stdout",
     "output_type": "stream",
     "text": [
      "27968\n"
     ]
    }
   ],
   "source": [
    "print len(words)"
   ]
  },
  {
   "cell_type": "markdown",
   "metadata": {},
   "source": [
    "# Homework 2 - Exercise \n",
    "Exercise - while loop\n",
    "Guessing a number.\n",
    "\n",
    "Initialize a variable called myNumber to any arbitrary value. For example, maybe you thought of a number 9\n",
    "\n",
    "Use the while loop to ask the user to enter a number. Check to see if the number entered by the user matches the number myNumber that you thought of. If there is a match, break from the while loop and print \"Yippee! User guessed the right number\". If there is no match allow the while loop to continue to ask the user for a number until a match is found"
   ]
  },
  {
   "cell_type": "code",
   "execution_count": 115,
   "metadata": {
    "collapsed": false
   },
   "outputs": [
    {
     "name": "stdout",
     "output_type": "stream",
     "text": [
      "Guess a number:9\n",
      "Try again:0\n",
      "Try again:27\n",
      "Yippee!\n"
     ]
    }
   ],
   "source": [
    "myNumber = 27\n",
    "\n",
    "userNumber = int(raw_input(\"Guess a number:\"))\n",
    "\n",
    "while userNumber != myNumber:\n",
    "    \n",
    "    userNumber = int(raw_input(\"Try again:\"))\n",
    "    \n",
    "print \"Yippee!\""
   ]
  },
  {
   "cell_type": "markdown",
   "metadata": {},
   "source": [
    "Homework 2: Exercise 8\n",
    "Write a Python program that reads two integers representing a month and day and prints the season for that month and day. Refer to this URL https://www.timeanddate.com/calendar/aboutseasons.html for when a season starts and ends in North America (Northern Meteorological Seasons)"
   ]
  },
  {
   "cell_type": "code",
   "execution_count": 117,
   "metadata": {
    "collapsed": false
   },
   "outputs": [],
   "source": [
    "# seasons\n",
    "\n",
    "spring_start_month = 3\n",
    "spring_start_day = 21\n",
    "spring_end_month = 6\n",
    "spring_end_day = 20\n",
    "\n",
    "user_month = 4\n",
    "user_day = 4\n",
    "\n",
    "if user_month >= spring_start_month and user_month <= spring_end_month\\\n",
    "    and user_day >= spring_start_day and user_day <= spring_end_day:\n",
    "        print \"Spring\"\n",
    "\n",
    "summer_start_month = 0\n",
    "summer_start_day = 0\n",
    "summer_end_month = 0\n",
    "summer_end_day = 0\n",
    "\n",
    "if user_month >= summer_start_month and user_month <= summer_end_month\\\n",
    "    and user_day >= summer_start_day and user_day <= summer_end_day:\n",
    "        print \"Summer\"\n",
    "\n",
    "fall_start_month = 0\n",
    "fall_start_day = 0\n",
    "fall_end_month = 0\n",
    "fall_end_day = 0\n",
    "\n",
    "if user_month >= fall_start_month and user_month <= fall_end_month\\\n",
    "    and user_day >= fall_start_day and user_day <= fall_end_day:\n",
    "        print \"Fall\"\n",
    "\n",
    "winter_start_month = 0\n",
    "winter_start_day = 0\n",
    "winter_end_month = 0\n",
    "winter_end_day = 0\n",
    "\n",
    "if user_month >= winter_start_month and user_month <= winter_end_month\\\n",
    "    and user_day >= winter_start_day and user_day <= winter_end_day:\n",
    "        print \"Winter\""
   ]
  },
  {
   "cell_type": "code",
   "execution_count": null,
   "metadata": {
    "collapsed": true
   },
   "outputs": [],
   "source": [
    "num1= int(raw_input(\"Please enter the month in the 'mm' format: \"))\n",
    "num2= int(raw_input(\"Please enter the day in the 'dd' format: \"))\n",
    "if (num1 > 12 or num1 <0) or (num2<0 or num2>31):\n",
    "    print \"Invalid date, try again\"\n",
    "    \n",
    "season = \"not available\"\n",
    "\n",
    "if (num1 == 3 or num1 == 4 or num1 == 5):\n",
    "    season = \"spring\"\n",
    "elif (num1 == 6 or num1== 7 or num1 == 8):\n",
    "    season = \"summer\"\n",
    "elif (num1 == 9 or num1== 10 or num1 == 11):\n",
    "    season=\"fall\"\n",
    "elif (num1 == 12 or num1== 1 or num1 == 2):\n",
    "    season=\"winter\"\n",
    "    \n",
    "if (num1 == 3) and (num2 > 19):\n",
    "    season = 'spring'\n",
    "elif (num1 == 6) and (num2 > 20):\n",
    "    season = 'summer'\n",
    "elif (num1 == 9) and (num2 > 21):\n",
    "    season = 'autumn'\n",
    "elif (num1 == 12) and (num2 > 20):\n",
    "    season = 'winter'\n",
    "    \n",
    "print \"The season on the date %s/%s is %s.\" % (num1, num2, season)"
   ]
  },
  {
   "cell_type": "code",
   "execution_count": null,
   "metadata": {
    "collapsed": true
   },
   "outputs": [],
   "source": [
    "month = int(input(\"Input the month: \"))\n",
    "day = int(input(\"Input the day: \"))\n",
    "\n",
    "if month in (1,3):\n",
    "    season = 'winter'\n",
    "elif month in (4,6):\n",
    "    season = 'spring'\n",
    "elif month in (7,9):\n",
    "    season = 'summer'\n",
    "elif month in (10,12): \n",
    "    season = 'fall'\n",
    "\n",
    "if (month == 3) and (day > 19):\n",
    "    season = 'spring'\n",
    "elif (month == 6) and (day > 20):\n",
    "    season = 'summer'\n",
    "elif (month == 9) and (day > 21):\n",
    "    season = 'autumn'\n",
    "elif (month == 12) and (day > 20):\n",
    "    season = 'winter'\n",
    "\n",
    "print 'Season is ',season\n",
    "### END CODE"
   ]
  },
  {
   "cell_type": "code",
   "execution_count": 118,
   "metadata": {
    "collapsed": false
   },
   "outputs": [
    {
     "name": "stdout",
     "output_type": "stream",
     "text": [
      "Enter your name:Harry\n",
      "yrraH\n"
     ]
    }
   ],
   "source": [
    "# Exercise 1\n",
    "\n",
    "name = raw_input(\"Enter your name:\")\n",
    "print name[::-1]"
   ]
  },
  {
   "cell_type": "code",
   "execution_count": 119,
   "metadata": {
    "collapsed": false
   },
   "outputs": [
    {
     "name": "stdout",
     "output_type": "stream",
     "text": [
      "Enter your name:Harry Potter\n",
      "first name: Harry\n",
      "second name: Potter\n"
     ]
    }
   ],
   "source": [
    "# Exercise 2\n",
    "\n",
    "name = raw_input(\"Enter your name:\")\n",
    "\n",
    "words = name.split(\" \")\n",
    "\n",
    "print \"first name:\", words[0]\n",
    "print \"second name:\", words[1]"
   ]
  },
  {
   "cell_type": "code",
   "execution_count": 120,
   "metadata": {
    "collapsed": false
   },
   "outputs": [
    {
     "name": "stdout",
     "output_type": "stream",
     "text": [
      "0123456789\n"
     ]
    }
   ],
   "source": [
    "import string\n",
    "\n",
    "print string.digits"
   ]
  },
  {
   "cell_type": "code",
   "execution_count": 121,
   "metadata": {
    "collapsed": true
   },
   "outputs": [],
   "source": [
    "long_text= \"alpha beta gamma 3 times\" * 100"
   ]
  },
  {
   "cell_type": "code",
   "execution_count": 122,
   "metadata": {
    "collapsed": false
   },
   "outputs": [
    {
     "name": "stdout",
     "output_type": "stream",
     "text": [
      "alpha beta gamma 3 timesalpha beta gamma 3 timesalpha beta gamma 3 timesalpha beta gamma 3 timesalpha beta gamma 3 timesalpha beta gamma 3 timesalpha beta gamma 3 timesalpha beta gamma 3 timesalpha beta gamma 3 timesalpha beta gamma 3 timesalpha beta gamma 3 timesalpha beta gamma 3 timesalpha beta gamma 3 timesalpha beta gamma 3 timesalpha beta gamma 3 timesalpha beta gamma 3 timesalpha beta gamma 3 timesalpha beta gamma 3 timesalpha beta gamma 3 timesalpha beta gamma 3 timesalpha beta gamma 3 timesalpha beta gamma 3 timesalpha beta gamma 3 timesalpha beta gamma 3 timesalpha beta gamma 3 timesalpha beta gamma 3 timesalpha beta gamma 3 timesalpha beta gamma 3 timesalpha beta gamma 3 timesalpha beta gamma 3 timesalpha beta gamma 3 timesalpha beta gamma 3 timesalpha beta gamma 3 timesalpha beta gamma 3 timesalpha beta gamma 3 timesalpha beta gamma 3 timesalpha beta gamma 3 timesalpha beta gamma 3 timesalpha beta gamma 3 timesalpha beta gamma 3 timesalpha beta gamma 3 timesalpha beta gamma 3 timesalpha beta gamma 3 timesalpha beta gamma 3 timesalpha beta gamma 3 timesalpha beta gamma 3 timesalpha beta gamma 3 timesalpha beta gamma 3 timesalpha beta gamma 3 timesalpha beta gamma 3 timesalpha beta gamma 3 timesalpha beta gamma 3 timesalpha beta gamma 3 timesalpha beta gamma 3 timesalpha beta gamma 3 timesalpha beta gamma 3 timesalpha beta gamma 3 timesalpha beta gamma 3 timesalpha beta gamma 3 timesalpha beta gamma 3 timesalpha beta gamma 3 timesalpha beta gamma 3 timesalpha beta gamma 3 timesalpha beta gamma 3 timesalpha beta gamma 3 timesalpha beta gamma 3 timesalpha beta gamma 3 timesalpha beta gamma 3 timesalpha beta gamma 3 timesalpha beta gamma 3 timesalpha beta gamma 3 timesalpha beta gamma 3 timesalpha beta gamma 3 timesalpha beta gamma 3 timesalpha beta gamma 3 timesalpha beta gamma 3 timesalpha beta gamma 3 timesalpha beta gamma 3 timesalpha beta gamma 3 timesalpha beta gamma 3 timesalpha beta gamma 3 timesalpha beta gamma 3 timesalpha beta gamma 3 timesalpha beta gamma 3 timesalpha beta gamma 3 timesalpha beta gamma 3 timesalpha beta gamma 3 timesalpha beta gamma 3 timesalpha beta gamma 3 timesalpha beta gamma 3 timesalpha beta gamma 3 timesalpha beta gamma 3 timesalpha beta gamma 3 timesalpha beta gamma 3 timesalpha beta gamma 3 timesalpha beta gamma 3 timesalpha beta gamma 3 timesalpha beta gamma 3 timesalpha beta gamma 3 timesalpha beta gamma 3 times\n"
     ]
    }
   ],
   "source": [
    "print long_text"
   ]
  },
  {
   "cell_type": "code",
   "execution_count": 126,
   "metadata": {
    "collapsed": false
   },
   "outputs": [
    {
     "name": "stdout",
     "output_type": "stream",
     "text": [
      "3\n",
      "3\n",
      "3\n",
      "3\n",
      "3\n",
      "3\n",
      "3\n",
      "3\n",
      "3\n",
      "3\n",
      "3\n",
      "3\n",
      "3\n",
      "3\n",
      "3\n",
      "3\n",
      "3\n",
      "3\n",
      "3\n",
      "3\n",
      "3\n",
      "3\n",
      "3\n",
      "3\n",
      "3\n",
      "3\n",
      "3\n",
      "3\n",
      "3\n",
      "3\n",
      "3\n",
      "3\n",
      "3\n",
      "3\n",
      "3\n",
      "3\n",
      "3\n",
      "3\n",
      "3\n",
      "3\n",
      "3\n",
      "3\n",
      "3\n",
      "3\n",
      "3\n",
      "3\n",
      "3\n",
      "3\n",
      "3\n",
      "3\n",
      "3\n",
      "3\n",
      "3\n",
      "3\n",
      "3\n",
      "3\n",
      "3\n",
      "3\n",
      "3\n",
      "3\n",
      "3\n",
      "3\n",
      "3\n",
      "3\n",
      "3\n",
      "3\n",
      "3\n",
      "3\n",
      "3\n",
      "3\n",
      "3\n",
      "3\n",
      "3\n",
      "3\n",
      "3\n",
      "3\n",
      "3\n",
      "3\n",
      "3\n",
      "3\n",
      "3\n",
      "3\n",
      "3\n",
      "3\n",
      "3\n",
      "3\n",
      "3\n",
      "3\n",
      "3\n",
      "3\n",
      "3\n",
      "3\n",
      "3\n",
      "3\n",
      "3\n",
      "3\n",
      "3\n",
      "3\n",
      "3\n",
      "3\n"
     ]
    }
   ],
   "source": [
    "#displaying digits in a string\n",
    "\n",
    "for letter in long_text:\n",
    "    \n",
    "    if letter in string.digits:\n",
    "        print letter\n",
    "        \n",
    "        "
   ]
  },
  {
   "cell_type": "code",
   "execution_count": null,
   "metadata": {
    "collapsed": true
   },
   "outputs": [],
   "source": [
    "new_string = \"\"\n",
    "\n",
    "for letter in long_text:\n",
    "    \n",
    "    if letter not in string.digits:\n",
    "        new_string += letter\n",
    "        "
   ]
  },
  {
   "cell_type": "code",
   "execution_count": 125,
   "metadata": {
    "collapsed": false
   },
   "outputs": [
    {
     "name": "stdout",
     "output_type": "stream",
     "text": [
      "alpha beta gamma  timesalpha beta gamma  timesalpha beta gamma  timesalpha beta gamma  timesalpha beta gamma  timesalpha beta gamma  timesalpha beta gamma  timesalpha beta gamma  timesalpha beta gamma  timesalpha beta gamma  timesalpha beta gamma  timesalpha beta gamma  timesalpha beta gamma  timesalpha beta gamma  timesalpha beta gamma  timesalpha beta gamma  timesalpha beta gamma  timesalpha beta gamma  timesalpha beta gamma  timesalpha beta gamma  timesalpha beta gamma  timesalpha beta gamma  timesalpha beta gamma  timesalpha beta gamma  timesalpha beta gamma  timesalpha beta gamma  timesalpha beta gamma  timesalpha beta gamma  timesalpha beta gamma  timesalpha beta gamma  timesalpha beta gamma  timesalpha beta gamma  timesalpha beta gamma  timesalpha beta gamma  timesalpha beta gamma  timesalpha beta gamma  timesalpha beta gamma  timesalpha beta gamma  timesalpha beta gamma  timesalpha beta gamma  timesalpha beta gamma  timesalpha beta gamma  timesalpha beta gamma  timesalpha beta gamma  timesalpha beta gamma  timesalpha beta gamma  timesalpha beta gamma  timesalpha beta gamma  timesalpha beta gamma  timesalpha beta gamma  timesalpha beta gamma  timesalpha beta gamma  timesalpha beta gamma  timesalpha beta gamma  timesalpha beta gamma  timesalpha beta gamma  timesalpha beta gamma  timesalpha beta gamma  timesalpha beta gamma  timesalpha beta gamma  timesalpha beta gamma  timesalpha beta gamma  timesalpha beta gamma  timesalpha beta gamma  timesalpha beta gamma  timesalpha beta gamma  timesalpha beta gamma  timesalpha beta gamma  timesalpha beta gamma  timesalpha beta gamma  timesalpha beta gamma  timesalpha beta gamma  timesalpha beta gamma  timesalpha beta gamma  timesalpha beta gamma  timesalpha beta gamma  timesalpha beta gamma  timesalpha beta gamma  timesalpha beta gamma  timesalpha beta gamma  timesalpha beta gamma  timesalpha beta gamma  timesalpha beta gamma  timesalpha beta gamma  timesalpha beta gamma  timesalpha beta gamma  timesalpha beta gamma  timesalpha beta gamma  timesalpha beta gamma  timesalpha beta gamma  timesalpha beta gamma  timesalpha beta gamma  timesalpha beta gamma  timesalpha beta gamma  timesalpha beta gamma  timesalpha beta gamma  timesalpha beta gamma  timesalpha beta gamma  timesalpha beta gamma  timesalpha beta gamma  times\n"
     ]
    }
   ],
   "source": [
    "print new_string"
   ]
  },
  {
   "cell_type": "code",
   "execution_count": 130,
   "metadata": {
    "collapsed": false
   },
   "outputs": [
    {
     "name": "stdout",
     "output_type": "stream",
     "text": [
      "JacklinSmith\n"
     ]
    }
   ],
   "source": [
    "# replacing punctuations\n",
    "\n",
    "name = \"Jacklin,Smith?!=\"\n",
    "\n",
    "for punctuation in string.punctuation:\n",
    "    if punctuation in name:\n",
    "        name = name.replace(punctuation,'')\n",
    "        \n",
    "print name"
   ]
  },
  {
   "cell_type": "code",
   "execution_count": 131,
   "metadata": {
    "collapsed": false
   },
   "outputs": [
    {
     "name": "stdout",
     "output_type": "stream",
     "text": [
      "alpha beta gamma  timesalpha beta gamma  timesalpha beta gamma  timesalpha beta gamma  timesalpha beta gamma  timesalpha beta gamma  timesalpha beta gamma  timesalpha beta gamma  timesalpha beta gamma  timesalpha beta gamma  timesalpha beta gamma  timesalpha beta gamma  timesalpha beta gamma  timesalpha beta gamma  timesalpha beta gamma  timesalpha beta gamma  timesalpha beta gamma  timesalpha beta gamma  timesalpha beta gamma  timesalpha beta gamma  timesalpha beta gamma  timesalpha beta gamma  timesalpha beta gamma  timesalpha beta gamma  timesalpha beta gamma  timesalpha beta gamma  timesalpha beta gamma  timesalpha beta gamma  timesalpha beta gamma  timesalpha beta gamma  timesalpha beta gamma  timesalpha beta gamma  timesalpha beta gamma  timesalpha beta gamma  timesalpha beta gamma  timesalpha beta gamma  timesalpha beta gamma  timesalpha beta gamma  timesalpha beta gamma  timesalpha beta gamma  timesalpha beta gamma  timesalpha beta gamma  timesalpha beta gamma  timesalpha beta gamma  timesalpha beta gamma  timesalpha beta gamma  timesalpha beta gamma  timesalpha beta gamma  timesalpha beta gamma  timesalpha beta gamma  timesalpha beta gamma  timesalpha beta gamma  timesalpha beta gamma  timesalpha beta gamma  timesalpha beta gamma  timesalpha beta gamma  timesalpha beta gamma  timesalpha beta gamma  timesalpha beta gamma  timesalpha beta gamma  timesalpha beta gamma  timesalpha beta gamma  timesalpha beta gamma  timesalpha beta gamma  timesalpha beta gamma  timesalpha beta gamma  timesalpha beta gamma  timesalpha beta gamma  timesalpha beta gamma  timesalpha beta gamma  timesalpha beta gamma  timesalpha beta gamma  timesalpha beta gamma  timesalpha beta gamma  timesalpha beta gamma  timesalpha beta gamma  timesalpha beta gamma  timesalpha beta gamma  timesalpha beta gamma  timesalpha beta gamma  timesalpha beta gamma  timesalpha beta gamma  timesalpha beta gamma  timesalpha beta gamma  timesalpha beta gamma  timesalpha beta gamma  timesalpha beta gamma  timesalpha beta gamma  timesalpha beta gamma  timesalpha beta gamma  timesalpha beta gamma  timesalpha beta gamma  timesalpha beta gamma  timesalpha beta gamma  timesalpha beta gamma  timesalpha beta gamma  timesalpha beta gamma  timesalpha beta gamma  timesalpha beta gamma  timesalpha beta gamma  times\n"
     ]
    }
   ],
   "source": [
    "print new_string"
   ]
  },
  {
   "cell_type": "code",
   "execution_count": 132,
   "metadata": {
    "collapsed": true
   },
   "outputs": [],
   "source": [
    "words = new_string.split(\" \")"
   ]
  },
  {
   "cell_type": "code",
   "execution_count": 135,
   "metadata": {
    "collapsed": false
   },
   "outputs": [
    {
     "name": "stdout",
     "output_type": "stream",
     "text": [
      "alpha beta gamma  timesalpha beta gamma  timesalpha beta gamma  timesalpha beta gamma  timesalpha beta gamma  timesalpha beta gamma  timesalpha beta gamma  timesalpha beta gamma  timesalpha beta gamma  timesalpha beta gamma  timesalpha beta gamma  timesalpha beta gamma  timesalpha beta gamma  timesalpha beta gamma  timesalpha beta gamma  timesalpha beta gamma  timesalpha beta gamma  timesalpha beta gamma  timesalpha beta gamma  timesalpha beta gamma  timesalpha beta gamma  timesalpha beta gamma  timesalpha beta gamma  timesalpha beta gamma  timesalpha beta gamma  timesalpha beta gamma  timesalpha beta gamma  timesalpha beta gamma  timesalpha beta gamma  timesalpha beta gamma  timesalpha beta gamma  timesalpha beta gamma  timesalpha beta gamma  timesalpha beta gamma  timesalpha beta gamma  timesalpha beta gamma  timesalpha beta gamma  timesalpha beta gamma  timesalpha beta gamma  timesalpha beta gamma  timesalpha beta gamma  timesalpha beta gamma  timesalpha beta gamma  timesalpha beta gamma  timesalpha beta gamma  timesalpha beta gamma  timesalpha beta gamma  timesalpha beta gamma  timesalpha beta gamma  timesalpha beta gamma  timesalpha beta gamma  timesalpha beta gamma  timesalpha beta gamma  timesalpha beta gamma  timesalpha beta gamma  timesalpha beta gamma  timesalpha beta gamma  timesalpha beta gamma  timesalpha beta gamma  timesalpha beta gamma  timesalpha beta gamma  timesalpha beta gamma  timesalpha beta gamma  timesalpha beta gamma  timesalpha beta gamma  timesalpha beta gamma  timesalpha beta gamma  timesalpha beta gamma  timesalpha beta gamma  timesalpha beta gamma  timesalpha beta gamma  timesalpha beta gamma  timesalpha beta gamma  timesalpha beta gamma  timesalpha beta gamma  timesalpha beta gamma  timesalpha beta gamma  timesalpha beta gamma  timesalpha beta gamma  timesalpha beta gamma  timesalpha beta gamma  timesalpha beta gamma  timesalpha beta gamma  timesalpha beta gamma  timesalpha beta gamma  timesalpha beta gamma  timesalpha beta gamma  timesalpha beta gamma  timesalpha beta gamma  timesalpha beta gamma  timesalpha beta gamma  timesalpha beta gamma  timesalpha beta gamma  timesalpha beta gamma  timesalpha beta gamma  timesalpha beta gamma  timesalpha beta gamma  timesalpha beta gamma  timesalpha beta gamma  timesalpha beta gamma  times\n"
     ]
    }
   ],
   "source": [
    "print \" \".join(words)"
   ]
  },
  {
   "cell_type": "code",
   "execution_count": 139,
   "metadata": {
    "collapsed": false
   },
   "outputs": [
    {
     "name": "stdout",
     "output_type": "stream",
     "text": [
      "it's cold outside cold\n"
     ]
    }
   ],
   "source": [
    "text = \"it's cold outside\"\n",
    "match = \"cold\"\n",
    "\n",
    "print text,match"
   ]
  },
  {
   "cell_type": "code",
   "execution_count": 147,
   "metadata": {
    "collapsed": false
   },
   "outputs": [
    {
     "name": "stdout",
     "output_type": "stream",
     "text": [
      "it's\n",
      "t's \n",
      "'s c\n",
      "s co\n",
      " col\n",
      "cold\n",
      "Match found at index: 5\n",
      "old \n",
      "ld o\n",
      "d ou\n",
      " out\n",
      "outs\n",
      "utsi\n",
      "tsid\n"
     ]
    }
   ],
   "source": [
    "for i in range(len(text)-len(match)):\n",
    "    print text[i:i+len(match)]\n",
    "    \n",
    "    if text[i:i+len(match)] == match:\n",
    "        print \"Match found at index:\", i"
   ]
  },
  {
   "cell_type": "code",
   "execution_count": 150,
   "metadata": {
    "collapsed": false
   },
   "outputs": [
    {
     "name": "stdout",
     "output_type": "stream",
     "text": [
      "Enter something in upper and lower case:Jack and Jill\n",
      "jack and jill\n",
      "JACK AND JILL\n",
      "jack and jill\n",
      "JACK AND JILL\n"
     ]
    }
   ],
   "source": [
    "#Exercise 4\n",
    "\n",
    "import string\n",
    "\n",
    "userInput = raw_input(\"Enter something in upper and lower case:\")\n",
    "\n",
    "print userInput.lower()\n",
    "print userInput.upper()\n",
    "\n",
    "print string.lower(userInput)\n",
    "print string.upper(userInput)\n"
   ]
  },
  {
   "cell_type": "code",
   "execution_count": 151,
   "metadata": {
    "collapsed": false
   },
   "outputs": [
    {
     "name": "stdout",
     "output_type": "stream",
     "text": [
      "Jack and Jill went hello the hill\n"
     ]
    }
   ],
   "source": [
    "# Exercise 6\n",
    "\n",
    "import string\n",
    "\n",
    "text = \"Jack and Jill went up the hill\"\n",
    "\n",
    "print text.replace(\"up\",\"hello\")"
   ]
  },
  {
   "cell_type": "code",
   "execution_count": null,
   "metadata": {
    "collapsed": true
   },
   "outputs": [],
   "source": []
  }
 ],
 "metadata": {
  "kernelspec": {
   "display_name": "Python 2",
   "language": "python",
   "name": "python2"
  },
  "language_info": {
   "codemirror_mode": {
    "name": "ipython",
    "version": 2
   },
   "file_extension": ".py",
   "mimetype": "text/x-python",
   "name": "python",
   "nbconvert_exporter": "python",
   "pygments_lexer": "ipython2",
   "version": "2.7.12"
  }
 },
 "nbformat": 4,
 "nbformat_minor": 2
}
