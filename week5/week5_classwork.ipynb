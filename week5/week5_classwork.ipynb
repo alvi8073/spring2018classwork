{
 "cells": [
  {
   "cell_type": "code",
   "execution_count": 1,
   "metadata": {
    "collapsed": false
   },
   "outputs": [
    {
     "name": "stdout",
     "output_type": "stream",
     "text": [
      "hello\n"
     ]
    }
   ],
   "source": [
    "print \"hello\""
   ]
  },
  {
   "cell_type": "code",
   "execution_count": 2,
   "metadata": {
    "collapsed": true
   },
   "outputs": [],
   "source": [
    "aliceFile = open(\"alice.txt\")"
   ]
  },
  {
   "cell_type": "code",
   "execution_count": 4,
   "metadata": {
    "collapsed": false
   },
   "outputs": [
    {
     "data": {
      "text/plain": [
       "'r'"
      ]
     },
     "execution_count": 4,
     "metadata": {},
     "output_type": "execute_result"
    }
   ],
   "source": [
    "# display mode\n",
    "aliceFile.mode"
   ]
  },
  {
   "cell_type": "code",
   "execution_count": 5,
   "metadata": {
    "collapsed": true
   },
   "outputs": [],
   "source": [
    "# read contents from the file\n",
    "\n",
    "contents = aliceFile.read()"
   ]
  },
  {
   "cell_type": "code",
   "execution_count": null,
   "metadata": {
    "collapsed": false
   },
   "outputs": [],
   "source": [
    "print contents"
   ]
  },
  {
   "cell_type": "code",
   "execution_count": 7,
   "metadata": {
    "collapsed": false
   },
   "outputs": [
    {
     "name": "stdout",
     "output_type": "stream",
     "text": [
      "173595\n"
     ]
    }
   ],
   "source": [
    "print len(contents)"
   ]
  },
  {
   "cell_type": "code",
   "execution_count": 8,
   "metadata": {
    "collapsed": false
   },
   "outputs": [
    {
     "name": "stdout",
     "output_type": "stream",
     "text": [
      "<open file 'alice.txt', mode 'r' at 0x10695fc00>\n"
     ]
    }
   ],
   "source": [
    "print aliceFile"
   ]
  },
  {
   "cell_type": "code",
   "execution_count": 9,
   "metadata": {
    "collapsed": true
   },
   "outputs": [],
   "source": [
    "contents = aliceFile.read()"
   ]
  },
  {
   "cell_type": "code",
   "execution_count": 10,
   "metadata": {
    "collapsed": false
   },
   "outputs": [
    {
     "name": "stdout",
     "output_type": "stream",
     "text": [
      "0\n"
     ]
    }
   ],
   "source": [
    "print len(contents)"
   ]
  },
  {
   "cell_type": "code",
   "execution_count": 11,
   "metadata": {
    "collapsed": true
   },
   "outputs": [],
   "source": [
    "aliceFile.seek(0)"
   ]
  },
  {
   "cell_type": "code",
   "execution_count": 12,
   "metadata": {
    "collapsed": true
   },
   "outputs": [],
   "source": [
    "contents = aliceFile.read()"
   ]
  },
  {
   "cell_type": "code",
   "execution_count": 13,
   "metadata": {
    "collapsed": false
   },
   "outputs": [
    {
     "name": "stdout",
     "output_type": "stream",
     "text": [
      "173595\n"
     ]
    }
   ],
   "source": [
    "print len(contents)"
   ]
  },
  {
   "cell_type": "code",
   "execution_count": 14,
   "metadata": {
    "collapsed": true
   },
   "outputs": [],
   "source": [
    "aliceFile.seek(0)"
   ]
  },
  {
   "cell_type": "code",
   "execution_count": 15,
   "metadata": {
    "collapsed": true
   },
   "outputs": [],
   "source": [
    "lines = aliceFile.readlines()"
   ]
  },
  {
   "cell_type": "code",
   "execution_count": 16,
   "metadata": {
    "collapsed": false
   },
   "outputs": [
    {
     "name": "stdout",
     "output_type": "stream",
     "text": [
      "3736\n"
     ]
    }
   ],
   "source": [
    "print len(lines)"
   ]
  },
  {
   "cell_type": "code",
   "execution_count": 19,
   "metadata": {
    "collapsed": false
   },
   "outputs": [
    {
     "name": "stdout",
     "output_type": "stream",
     "text": [
      "﻿Project Gutenberg’s Alice’s Adventures in Wonderland, by Lewis Carroll\r\n",
      "\n",
      "\r\n",
      "\n",
      "This eBook is for the use of anyone anywhere at no cost and with\r\n",
      "\n",
      "almost no restrictions whatsoever.  You may copy it, give it away or\r\n",
      "\n",
      "re-use it under the terms of the Project Gutenberg License included\r\n",
      "\n",
      "with this eBook or online at www.gutenberg.org\r\n",
      "\n",
      "\r\n",
      "\n",
      "\r\n",
      "\n",
      "Title: Alice’s Adventures in Wonderland\r\n",
      "\n",
      "\r\n",
      "\n"
     ]
    }
   ],
   "source": [
    "for i in range(10):\n",
    "    print lines[i]"
   ]
  },
  {
   "cell_type": "code",
   "execution_count": 20,
   "metadata": {
    "collapsed": true
   },
   "outputs": [],
   "source": [
    "aliceFile.seek(0)"
   ]
  },
  {
   "cell_type": "code",
   "execution_count": 21,
   "metadata": {
    "collapsed": true
   },
   "outputs": [],
   "source": [
    "line = aliceFile.readline()"
   ]
  },
  {
   "cell_type": "code",
   "execution_count": 22,
   "metadata": {
    "collapsed": false
   },
   "outputs": [
    {
     "name": "stdout",
     "output_type": "stream",
     "text": [
      "﻿Project Gutenberg’s Alice’s Adventures in Wonderland, by Lewis Carroll\r\n",
      "\n"
     ]
    }
   ],
   "source": [
    "print line"
   ]
  },
  {
   "cell_type": "code",
   "execution_count": 23,
   "metadata": {
    "collapsed": false
   },
   "outputs": [
    {
     "name": "stdout",
     "output_type": "stream",
     "text": [
      "\r\n",
      "\n",
      "This eBook is for the use of anyone anywhere at no cost and with\r\n",
      "\n",
      "almost no restrictions whatsoever.  You may copy it, give it away or\r\n",
      "\n",
      "re-use it under the terms of the Project Gutenberg License included\r\n",
      "\n",
      "with this eBook or online at www.gutenberg.org\r\n",
      "\n",
      "\r\n",
      "\n",
      "\r\n",
      "\n",
      "Title: Alice’s Adventures in Wonderland\r\n",
      "\n",
      "\r\n",
      "\n",
      "Author: Lewis Carroll\r\n",
      "\n",
      "\r\n",
      "\n",
      "Posting Date: June 25, 2008 [EBook #11]\r\n",
      "\n",
      "Release Date: March, 1994\r\n",
      "\n",
      "Last Updated: October 6, 2016\r\n",
      "\n",
      "\r\n",
      "\n",
      "Language: English\r\n",
      "\n",
      "\r\n",
      "\n",
      "Character set encoding: UTF-8\r\n",
      "\n",
      "\r\n",
      "\n",
      "*** START OF THIS PROJECT GUTENBERG EBOOK ALICE’S ADVENTURES IN WONDERLAND ***\r\n",
      "\n",
      "\r\n",
      "\n",
      "\r\n",
      "\n",
      "\r\n",
      "\n",
      "\r\n",
      "\n",
      "\r\n",
      "\n",
      "\r\n",
      "\n",
      "\r\n",
      "\n",
      "\r\n",
      "\n",
      "\r\n",
      "\n",
      "\r\n",
      "\n",
      "ALICE’S ADVENTURES IN WONDERLAND\r\n",
      "\n",
      "\r\n",
      "\n",
      "Lewis Carroll\r\n",
      "\n",
      "\r\n",
      "\n",
      "THE MILLENNIUM FULCRUM EDITION 3.0\r\n",
      "\n",
      "\r\n",
      "\n",
      "\r\n",
      "\n",
      "\r\n",
      "\n",
      "\r\n",
      "\n",
      "CHAPTER I. Down the Rabbit-Hole\r\n",
      "\n",
      "\r\n",
      "\n",
      "Alice was beginning to get very tired of sitting by her sister on the\r\n",
      "\n",
      "bank, and of having nothing to do: once or twice she had peeped into the\r\n",
      "\n",
      "book her sister was reading, but it had no pictures or conversations in\r\n",
      "\n",
      "it, ‘and what is the use of a book,’ thought Alice ‘without pictures or\r\n",
      "\n",
      "conversations?’\r\n",
      "\n",
      "\r\n",
      "\n",
      "So she was considering in her own mind (as well as she could, for the\r\n",
      "\n",
      "hot day made her feel very sleepy and stupid), whether the pleasure\r\n",
      "\n",
      "of making a daisy-chain would be worth the trouble of getting up and\r\n",
      "\n",
      "picking the daisies, when suddenly a White Rabbit with pink eyes ran\r\n",
      "\n",
      "close by her.\r\n",
      "\n",
      "\r\n",
      "\n",
      "There was nothing so VERY remarkable in that; nor did Alice think it so\r\n",
      "\n",
      "VERY much out of the way to hear the Rabbit say to itself, ‘Oh dear!\r\n",
      "\n",
      "Oh dear! I shall be late!’ (when she thought it over afterwards, it\r\n",
      "\n",
      "occurred to her that she ought to have wondered at this, but at the time\r\n",
      "\n",
      "it all seemed quite natural); but when the Rabbit actually TOOK A WATCH\r\n",
      "\n",
      "OUT OF ITS WAISTCOAT-POCKET, and looked at it, and then hurried on,\r\n",
      "\n",
      "Alice started to her feet, for it flashed across her mind that she had\r\n",
      "\n",
      "never before seen a rabbit with either a waistcoat-pocket, or a watch\r\n",
      "\n",
      "to take out of it, and burning with curiosity, she ran across the field\r\n",
      "\n",
      "after it, and fortunately was just in time to see it pop down a large\r\n",
      "\n",
      "rabbit-hole under the hedge.\r\n",
      "\n",
      "\r\n",
      "\n",
      "In another moment down went Alice after it, never once considering how\r\n",
      "\n",
      "in the world she was to get out again.\r\n",
      "\n",
      "\r\n",
      "\n",
      "The rabbit-hole went straight on like a tunnel for some way, and then\r\n",
      "\n",
      "dipped suddenly down, so suddenly that Alice had not a moment to think\r\n",
      "\n",
      "about stopping herself before she found herself falling down a very deep\r\n",
      "\n",
      "well.\r\n",
      "\n",
      "\r\n",
      "\n",
      "Either the well was very deep, or she fell very slowly, for she had\r\n",
      "\n",
      "plenty of time as she went down to look about her and to wonder what was\r\n",
      "\n",
      "going to happen next. First, she tried to look down and make out what\r\n",
      "\n",
      "she was coming to, but it was too dark to see anything; then she\r\n",
      "\n",
      "looked at the sides of the well, and noticed that they were filled with\r\n",
      "\n",
      "cupboards and book-shelves; here and there she saw maps and pictures\r\n",
      "\n",
      "hung upon pegs. She took down a jar from one of the shelves as\r\n",
      "\n",
      "she passed; it was labelled ‘ORANGE MARMALADE’, but to her great\r\n",
      "\n",
      "disappointment it was empty: she did not like to drop the jar for fear\r\n",
      "\n",
      "of killing somebody, so managed to put it into one of the cupboards as\r\n",
      "\n",
      "she fell past it.\r\n",
      "\n",
      "\r\n",
      "\n",
      "‘Well!’ thought Alice to herself, ‘after such a fall as this, I shall\r\n",
      "\n",
      "think nothing of tumbling down stairs! How brave they’ll all think me at\r\n",
      "\n",
      "home! Why, I wouldn’t say anything about it, even if I fell off the top\r\n",
      "\n",
      "of the house!’ (Which was very likely true.)\r\n",
      "\n",
      "\r\n",
      "\n",
      "Down, down, down. Would the fall NEVER come to an end! ‘I wonder how\r\n",
      "\n",
      "many miles I’ve fallen by this time?’ she said aloud. ‘I must be getting\r\n",
      "\n",
      "somewhere near the centre of the earth. Let me see: that would be four\r\n",
      "\n",
      "thousand miles down, I think--’ (for, you see, Alice had learnt several\r\n",
      "\n",
      "things of this sort in her lessons in the schoolroom, and though this\r\n",
      "\n",
      "was not a VERY good opportunity for showing off her knowledge, as there\r\n",
      "\n",
      "was no one to listen to her, still it was good practice to say it over)\r\n",
      "\n",
      "‘--yes, that’s about the right distance--but then I wonder what Latitude\r\n",
      "\n",
      "or Longitude I’ve got to?’ (Alice had no idea what Latitude was, or\r\n",
      "\n",
      "Longitude either, but thought they were nice grand words to say.)\r\n",
      "\n"
     ]
    }
   ],
   "source": [
    "for i in range(100):\n",
    "    print aliceFile.readline()"
   ]
  },
  {
   "cell_type": "code",
   "execution_count": 27,
   "metadata": {
    "collapsed": false
   },
   "outputs": [],
   "source": [
    "temp = {1:[\"Toy Story\",1995,['Adventure','Animation','Children','Comedy','Fantasy']]}"
   ]
  },
  {
   "cell_type": "code",
   "execution_count": 28,
   "metadata": {
    "collapsed": false
   },
   "outputs": [
    {
     "data": {
      "text/plain": [
       "{1: ['Toy Story',\n",
       "  1995,\n",
       "  ['Adventure', 'Animation', 'Children', 'Comedy', 'Fantasy']]}"
      ]
     },
     "execution_count": 28,
     "metadata": {},
     "output_type": "execute_result"
    }
   ],
   "source": [
    "temp"
   ]
  },
  {
   "cell_type": "code",
   "execution_count": null,
   "metadata": {
    "collapsed": true
   },
   "outputs": [],
   "source": []
  }
 ],
 "metadata": {
  "kernelspec": {
   "display_name": "Python 2",
   "language": "python",
   "name": "python2"
  },
  "language_info": {
   "codemirror_mode": {
    "name": "ipython",
    "version": 2
   },
   "file_extension": ".py",
   "mimetype": "text/x-python",
   "name": "python",
   "nbconvert_exporter": "python",
   "pygments_lexer": "ipython2",
   "version": "2.7.12"
  }
 },
 "nbformat": 4,
 "nbformat_minor": 2
}
